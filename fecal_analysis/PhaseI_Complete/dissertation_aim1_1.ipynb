{
 "cells": [
  {
   "cell_type": "markdown",
   "metadata": {},
   "source": [
    "<!-- <div id=\"toc_container\"> -->\n",
    "<h2>Table of Contents</h2>\n",
    "<ul class=\"toc_list\">\n",
    "  <a href=\"#1&nbsp;&nbsp;General-Analysis-Information\">1&nbsp;&nbsp;General Analysis Information</a><br>\n",
    "    <ul>\n",
    "    <a href=\"#1.1&nbsp;&nbsp;Project-summary\">1.1&nbsp;&nbsp;Project summary</a><br>\n",
    "    <a href=\"#1.2&nbsp;&nbsp;Project-directory\">1.2&nbsp;&nbsp;Project directory</a><br>\n",
    "    </ul>\n",
    "  <a href=\"#2&nbsp;&nbsp;Manifest-preparation\">2&nbsp;&nbsp;Manifest preparation</a><br>\n",
    "    <ul>\n",
    "    <a href=\"#2.1&nbsp;&nbsp;Metadata-overview\">2.1&nbsp;&nbsp;Metadata overview</a><br>\n",
    "    <a href=\"#2.2&nbsp;&nbsp;Receipt-selection\">2.2&nbsp;&nbsp;Receipt selection</a><br>\n",
    "    <a href=\"#2.3&nbsp;&nbsp;Output-manifest\">2.3&nbsp;&nbsp;Output manifest</a><br>  \n",
    "    </ul>\n",
    "  <a href=\"#3&nbsp;&nbsp;Sequencing-information\">3&nbsp;&nbsp;Sequencing information</a><br>\n",
    "    <ul>\n",
    "    <a href=\"#3.1&nbsp;&nbsp;Yaml-parameters\">3.1&nbsp;&nbsp;Yaml parameters</a><br>\n",
    "    <a href=\"#3.2&nbsp;&nbsp;Pipeline-run\">3.2&nbsp;&nbsp;Pipeline run</a><br>\n",
    "    </ul>\n",
    "  <a href=\"#4&nbsp;&nbsp;Quality-control\">4&nbsp;&nbsp;Quality control</a><br>\n",
    "    <ul>\n",
    "    <a href=\"#4.1&nbsp;&nbsp;Trimming\">4.1&nbsp;&nbsp;Trimming</a><br>\n",
    "    <a href=\"#4.2&nbsp;&nbsp;Non-bacterial-reads\">4.2&nbsp;&nbsp;Non-bacterial reads</a><br>\n",
    "    <a href=\"#4.3&nbsp;&nbsp;Sequencing-depth-distribution-per-flow-cell\">4.3&nbsp;&nbsp;Sequencing depth distribution per flow cell</a><br>\n",
    "    <a href=\"#4.4&nbsp;&nbsp;Read-counts-after-pre-process-filtering\">4.4&nbsp;&nbsp;Read counts after pre process filtering</a><br>\n",
    "    </ul>\n",
    "  <a href=\"#5&nbsp;&nbsp;Sample-selection\">5&nbsp;&nbsp;Sample selection</a><br>\n",
    "    <ul>\n",
    "    <a href=\"#3.5&nbsp;&nbsp;Biological-replicates\">3.5&nbsp;&nbsp;Biological replicates</a><br>\n",
    "    <a href=\"#3.6&nbsp;&nbsp;QC-samples\">3.6&nbsp;&nbsp;QC samples</a><br>\n",
    "    </ul>\n",
    "  <a href=\"#4&nbsp;&nbsp;Rarefaction-threshold\">4&nbsp;&nbsp;Rarefaction threshold</a><br>\n",
    "  <a href=\"#5&nbsp;&nbsp;Alpha-diversity\">5&nbsp;&nbsp;Alpha diversity</a><br>\n",
    "  <a href=\"#6&nbsp;&nbsp;Beta-diversity\">6&nbsp;&nbsp;Beta diversity</a><br>\n",
    "  <ul>\n",
    "    <a href=\"#6.1&nbsp;&nbsp;Bray-Curtis\">6.1&nbsp;&nbsp;Bray-Curtis</a><br>\n",
    "    <a href=\"#6.2&nbsp;&nbsp;Jaccard\">6.2&nbsp;&nbsp;Jaccard</a><br>\n",
    "    <a href=\"#6.3&nbsp;&nbsp;Weighted-UniFrac\">6.3&nbsp;&nbsp;Weighted UniFrac</a><br>\n",
    "    <a href=\"#6.4&nbsp;&nbsp;Unweighted-UniFrac\">6.4&nbsp;&nbsp;Unweighted UniFrac</a><br>\n",
    "  </ul>\n",
    "</ul>"
   ]
  },
  {
   "cell_type": "code",
   "execution_count": 1,
   "metadata": {},
   "outputs": [
    {
     "name": "stdout",
     "output_type": "stream",
     "text": [
      "Collecting git+https://github.com/webermarcolivier/statannot\r\n",
      "  Cloning https://github.com/webermarcolivier/statannot to c:\\users\\slsevi~1\\appdata\\local\\temp\\pip-req-build-1qyzcyck\r\n",
      "Requirement already satisfied (use --upgrade to upgrade): statannot==0.2.2 from git+https://github.com/webermarcolivier/statannot in c:\\miniconda\\lib\\site-packages\r\n",
      "Building wheels for collected packages: statannot\r\n",
      "  Building wheel for statannot (setup.py): started\r\n",
      "  Building wheel for statannot (setup.py): finished with status 'done'\r\n",
      "  Created wheel for statannot: filename=statannot-0.2.2-py3-none-any.whl size=11039 sha256=dfc70c601b2d8ee78052824536a1ebf48d0f8232164b654083c055aadebe7809\r\n",
      "  Stored in directory: C:\\Users\\SLSEVI~1\\AppData\\Local\\Temp\\pip-ephem-wheel-cache-by_rppwz\\wheels\\48\\70\\5d\\319e4b342e18b0080826e678683b28bb358cebe0c135651156\r\n",
      "Successfully built statannot\r\n"
     ]
    },
    {
     "name": "stderr",
     "output_type": "stream",
     "text": [
      "  Running command git clone -q https://github.com/webermarcolivier/statannot 'C:\\Users\\SLSEVI~1\\AppData\\Local\\Temp\\pip-req-build-1qyzcyck'\r\n"
     ]
    }
   ],
   "source": [
    "%%bash\n",
    "pip install git+https://github.com/webermarcolivier/statannot"
   ]
  },
  {
   "cell_type": "code",
   "execution_count": 2,
   "metadata": {},
   "outputs": [],
   "source": [
    "from IPython.display import display\n",
    "import os.path\n",
    "%matplotlib inline\n",
    "import pandas as pd\n",
    "import numpy as np\n",
    "import matplotlib.pyplot as plt\n",
    "import matplotlib as mpl\n",
    "import seaborn as sns\n",
    "import glob\n",
    "from scipy import stats\n",
    "from itertools import combinations\n",
    "#from skbio.stats.ordination import pcoa\n",
    "#from skbio import DistanceMatrix\n",
    "#import os; os.environ['R_HOME'] = \"C:\\\\Miniconda\\\\lib\\\\R\\\\\"\n",
    "import rpy2\n",
    "sns.set(style=\"whitegrid\")\n",
    "#import warnings\n",
    "#warnings.filterwarnings('ignore')\n",
    "from statannot import add_stat_annotation"
   ]
  },
  {
   "cell_type": "markdown",
   "metadata": {},
   "source": [
    "<h2 id=\"1&nbsp;&nbsp;Ge\">1&nbsp;&nbsp;General Analysis Information</h2>"
   ]
  },
  {
   "cell_type": "markdown",
   "metadata": {},
   "source": [
    "<h3 id=\"1.1&nbsp;&nbsp;Project-summary\">1.1&nbsp;&nbsp;Project summary</h3>\n",
    "\n",
    "AIM 1 consists of a fecal extraction comparison using fresh-frozen fecal material from human donors, and artificial colonies. Samples were extracted using multiple methods, to be examined. The 16S rRNA gene was then sequenced using an Illumina MiSeq from three projects: NP0084-MB4, NP0084-MB5, NP0084-MB6. A summary of the three individual projects is included below:\n",
    "\n",
    "- NP0084-MB4\n",
    "- NP0084-MB5\n",
    "- NP0084-MB6"
   ]
  },
  {
   "cell_type": "markdown",
   "metadata": {},
   "source": [
    "<h3 id=\"1.2&nbsp;&nbsp;Project-summary\">1.2&nbsp;&nbsp;Project directory</h3>"
   ]
  },
  {
   "cell_type": "code",
   "execution_count": 3,
   "metadata": {},
   "outputs": [
    {
     "name": "stdout",
     "output_type": "stream",
     "text": [
      "C:\\Users\\slsevilla\\Google Drive\\MyDocuments_Current\\Education\\George Mason University\\Dissertation\\Data\\Aim1\n"
     ]
    }
   ],
   "source": [
    "cgr_proj_dir='/DCEG/Projects/Microbiome/Analysis/NP0084_MB/20200410_2019.1'\n",
    "proj_dir='/Users/slsevilla/Google Drive/MyDocuments_Current/Education/George Mason University/Dissertation/Data/Aim1/'\n",
    "img_dir='/Users/slsevilla/Google Drive/MyDocuments_Current/Education/George Mason University/Dissertation/Data/Aim1/output/img'\n",
    "%cd {proj_dir}"
   ]
  },
  {
   "cell_type": "markdown",
   "metadata": {},
   "source": [
    "<h2 id=\"2&nbsp;&nbsp;Manifest-preparation\">2&nbsp;&nbsp;Manifest preparation</h3>"
   ]
  },
  {
   "cell_type": "markdown",
   "metadata": {},
   "source": [
    "<h3 id=\"2.1&nbsp;&nbsp;Metadata-overview\">2.1&nbsp;&nbsp;Metadata overview</h3>\n",
    "\n",
    "Metadata for the project was included with the metagenomic pipeline requirements."
   ]
  },
  {
   "cell_type": "code",
   "execution_count": 4,
   "metadata": {},
   "outputs": [],
   "source": [
    "manifest_path = proj_dir+'manifest//raw_manifest.txt'\n",
    "\n",
    "manifest = pd.read_csv(glob.glob(manifest_path)[0],sep='\\t',index_col=0)\n",
    "manifest = manifest.dropna(how='all', axis='columns')\n",
    "manifest.columns = manifest.columns.str.replace(' ', '')"
   ]
  },
  {
   "cell_type": "code",
   "execution_count": 5,
   "metadata": {},
   "outputs": [
    {
     "data": {
      "text/html": [
       "<div>\n",
       "<style scoped>\n",
       "    .dataframe tbody tr th:only-of-type {\n",
       "        vertical-align: middle;\n",
       "    }\n",
       "\n",
       "    .dataframe tbody tr th {\n",
       "        vertical-align: top;\n",
       "    }\n",
       "\n",
       "    .dataframe thead th {\n",
       "        text-align: right;\n",
       "    }\n",
       "</style>\n",
       "<table border=\"1\" class=\"dataframe\">\n",
       "  <thead>\n",
       "    <tr style=\"text-align: right;\">\n",
       "      <th></th>\n",
       "      <th>Source-PCR-Plate</th>\n",
       "      <th>Run-ID</th>\n",
       "      <th>Project-ID</th>\n",
       "      <th>CGR-Sample-ID</th>\n",
       "      <th>Sample-Type</th>\n",
       "      <th>Sample-Des</th>\n",
       "      <th>Subject-ID</th>\n",
       "      <th>Reciept</th>\n",
       "      <th>Ext-Company</th>\n",
       "      <th>Ext-Kit</th>\n",
       "      <th>Ext-Robotics</th>\n",
       "      <th>Homo-Status</th>\n",
       "      <th>Homo-Method</th>\n",
       "      <th>Homo-Holder</th>\n",
       "    </tr>\n",
       "    <tr>\n",
       "      <th>Sample ID</th>\n",
       "      <th></th>\n",
       "      <th></th>\n",
       "      <th></th>\n",
       "      <th></th>\n",
       "      <th></th>\n",
       "      <th></th>\n",
       "      <th></th>\n",
       "      <th></th>\n",
       "      <th></th>\n",
       "      <th></th>\n",
       "      <th></th>\n",
       "      <th></th>\n",
       "      <th></th>\n",
       "      <th></th>\n",
       "    </tr>\n",
       "  </thead>\n",
       "  <tbody>\n",
       "    <tr>\n",
       "      <th>SC249358</th>\n",
       "      <td>PC04924_A_01</td>\n",
       "      <td>180112_M01354_0104_000000000-BFN3F</td>\n",
       "      <td>NP0084-MB4</td>\n",
       "      <td>SC249358</td>\n",
       "      <td>Ext_Control</td>\n",
       "      <td>art_col</td>\n",
       "      <td>DZ35322</td>\n",
       "      <td>sFEMB-001-R-002</td>\n",
       "      <td>Qiagen</td>\n",
       "      <td>DSP Virus</td>\n",
       "      <td>QIASymphony</td>\n",
       "      <td>Standard</td>\n",
       "      <td>Vertical</td>\n",
       "      <td>Tubes</td>\n",
       "    </tr>\n",
       "    <tr>\n",
       "      <th>SC249363</th>\n",
       "      <td>PC04924_F_01</td>\n",
       "      <td>180112_M01354_0104_000000000-BFN3F</td>\n",
       "      <td>NP0084-MB4</td>\n",
       "      <td>SC249363</td>\n",
       "      <td>Ext_Control</td>\n",
       "      <td>art_col</td>\n",
       "      <td>DZ35322</td>\n",
       "      <td>sFEMB-001-R-002</td>\n",
       "      <td>Qiagen</td>\n",
       "      <td>DSP Virus</td>\n",
       "      <td>QIASymphony</td>\n",
       "      <td>Standard</td>\n",
       "      <td>Vertical</td>\n",
       "      <td>Tubes</td>\n",
       "    </tr>\n",
       "    <tr>\n",
       "      <th>SC249366-PC04925-D-01</th>\n",
       "      <td>PC04925_D_01</td>\n",
       "      <td>180112_M03599_0134_000000000-BFD9Y</td>\n",
       "      <td>NP0084-MB4</td>\n",
       "      <td>SC249366</td>\n",
       "      <td>Ext_Control</td>\n",
       "      <td>Ext_Blank</td>\n",
       "      <td>Water</td>\n",
       "      <td>sFEMB-001-R-002</td>\n",
       "      <td>Qiagen</td>\n",
       "      <td>DSP Virus</td>\n",
       "      <td>QIASymphony</td>\n",
       "      <td>Standard</td>\n",
       "      <td>Vertical</td>\n",
       "      <td>Tubes</td>\n",
       "    </tr>\n",
       "    <tr>\n",
       "      <th>SC249366-PC07578-D-01</th>\n",
       "      <td>PC07578_D_01</td>\n",
       "      <td>180328_M01354_0106_000000000-BFMHC</td>\n",
       "      <td>NP0084-MB5</td>\n",
       "      <td>SC249366</td>\n",
       "      <td>Ext_Control</td>\n",
       "      <td>Ext_Blank</td>\n",
       "      <td>Water</td>\n",
       "      <td>sFEMB-001-R-002</td>\n",
       "      <td>Qiagen</td>\n",
       "      <td>DSP Virus</td>\n",
       "      <td>QIASymphony</td>\n",
       "      <td>Standard</td>\n",
       "      <td>Vertical</td>\n",
       "      <td>Tubes</td>\n",
       "    </tr>\n",
       "    <tr>\n",
       "      <th>SC249367</th>\n",
       "      <td>PC04924_A_02</td>\n",
       "      <td>180112_M01354_0104_000000000-BFN3F</td>\n",
       "      <td>NP0084-MB4</td>\n",
       "      <td>SC249367</td>\n",
       "      <td>Ext_Control</td>\n",
       "      <td>Ext_Blank</td>\n",
       "      <td>Water</td>\n",
       "      <td>sFEMB-001-R-002</td>\n",
       "      <td>Qiagen</td>\n",
       "      <td>DSP Virus</td>\n",
       "      <td>QIASymphony</td>\n",
       "      <td>Standard</td>\n",
       "      <td>Vertical</td>\n",
       "      <td>Tubes</td>\n",
       "    </tr>\n",
       "  </tbody>\n",
       "</table>\n",
       "</div>"
      ],
      "text/plain": [
       "                      Source-PCR-Plate                              Run-ID  \\\n",
       "Sample ID                                                                    \n",
       "SC249358                  PC04924_A_01  180112_M01354_0104_000000000-BFN3F   \n",
       "SC249363                  PC04924_F_01  180112_M01354_0104_000000000-BFN3F   \n",
       "SC249366-PC04925-D-01     PC04925_D_01  180112_M03599_0134_000000000-BFD9Y   \n",
       "SC249366-PC07578-D-01     PC07578_D_01  180328_M01354_0106_000000000-BFMHC   \n",
       "SC249367                  PC04924_A_02  180112_M01354_0104_000000000-BFN3F   \n",
       "\n",
       "                       Project-ID CGR-Sample-ID  Sample-Type Sample-Des  \\\n",
       "Sample ID                                                                 \n",
       "SC249358               NP0084-MB4      SC249358  Ext_Control    art_col   \n",
       "SC249363               NP0084-MB4      SC249363  Ext_Control    art_col   \n",
       "SC249366-PC04925-D-01  NP0084-MB4      SC249366  Ext_Control  Ext_Blank   \n",
       "SC249366-PC07578-D-01  NP0084-MB5      SC249366  Ext_Control  Ext_Blank   \n",
       "SC249367               NP0084-MB4      SC249367  Ext_Control  Ext_Blank   \n",
       "\n",
       "                      Subject-ID          Reciept Ext-Company    Ext-Kit  \\\n",
       "Sample ID                                                                  \n",
       "SC249358                 DZ35322  sFEMB-001-R-002      Qiagen  DSP Virus   \n",
       "SC249363                 DZ35322  sFEMB-001-R-002      Qiagen  DSP Virus   \n",
       "SC249366-PC04925-D-01      Water  sFEMB-001-R-002      Qiagen  DSP Virus   \n",
       "SC249366-PC07578-D-01      Water  sFEMB-001-R-002      Qiagen  DSP Virus   \n",
       "SC249367                   Water  sFEMB-001-R-002      Qiagen  DSP Virus   \n",
       "\n",
       "                      Ext-Robotics Homo-Status Homo-Method Homo-Holder  \n",
       "Sample ID                                                               \n",
       "SC249358               QIASymphony    Standard    Vertical       Tubes  \n",
       "SC249363               QIASymphony    Standard    Vertical       Tubes  \n",
       "SC249366-PC04925-D-01  QIASymphony    Standard    Vertical       Tubes  \n",
       "SC249366-PC07578-D-01  QIASymphony    Standard    Vertical       Tubes  \n",
       "SC249367               QIASymphony    Standard    Vertical       Tubes  "
      ]
     },
     "execution_count": 5,
     "metadata": {},
     "output_type": "execute_result"
    }
   ],
   "source": [
    "manifest.head()"
   ]
  },
  {
   "cell_type": "code",
   "execution_count": 6,
   "metadata": {},
   "outputs": [
    {
     "name": "stdout",
     "output_type": "stream",
     "text": [
      "Run-ID\n",
      "180112_M01354_0104_000000000-BFN3F, 180112_M03599_0134_000000000-BFD9Y, 180328_M01354_0106_000000000-BFMHC, 190617_M01354_0118_000000000-CHFG3\n",
      "\n",
      "\n",
      "Project-ID\n",
      "NP0084-MB4, NP0084-MB5, NP0084-MB6\n",
      "\n",
      "\n",
      "Sample-Type\n",
      "Ext_Control, Study, Seq_Control\n",
      "\n",
      "\n",
      "Sample-Des\n",
      "art_col, Ext_Blank, human_1, Robogut, ZymoBiomics, Biocollective, MSA, Seq_Blank\n",
      "\n",
      "\n",
      "Subject-ID\n",
      "DZ35322, Water, human_1, DZ35298, D6300, Biocollective, D6310, DZ35316, MSA1000, MSA1001, MSA1002, MSA1003, NTC_Blank, PCR_Blank, D6305, D6306, D6311\n",
      "\n",
      "\n",
      "Reciept\n",
      "sFEMB-001-R-002, sFEMB-001-R-003, sFEMB-001-R-004, sFEMB-001-R-005, sFEMB-001-R-006, sFEMB-001-R-007, sFEMB-001-R-008, sFEMB-001-R-009, sFEMB-001-R-010, sFEMB-001-R-011, sFEMB-001-R-012, sFEMB-001-R-013, sFEMB-001-R-014, sFEMB-001-R-015, sFEMB-001-R-016, sFEMB-001-R-017, sFEMB-001-R-034, sFEMB-001-R-037, sFEMB-001-R-038, sFEMB-001-R-039, sFEMB-001-R-040, sFEMB-001-R-041, sFEMB-001-R-042, sFEMB-001-R-043, sFEMB-001-R-044, sFEMB-001-R-045, sFEMB-001-R-046, sFEMB-001-R-047, sFEMB-001-R-048, sFEMB-001-R-049, sFEMB-001-R-050, sFEMB-001-R-051, sFEMB-001-R-052, sFEMB-001-R-053, sFEMB-001-R-054, sFEMB-001-R-055, nan\n",
      "\n",
      "\n",
      "Ext-Company\n",
      "Qiagen, ZymoResearch, ThermoFisher, nan\n",
      "\n",
      "\n",
      "Ext-Kit\n",
      "DSP Virus, 96 MagBead DNA Extraction Kit, MagAttract PowerSoil DNA Kit, MagAttract PowerMicrobiome Kit, QIAamp with Modifications, DNeasy PowerSoil Pro kit, MagMax Microbiome Ultra Kit, nan\n",
      "\n",
      "\n",
      "Ext-Robotics\n",
      "QIASymphony, None, KingFisher, QIACube HT, nan\n",
      "\n",
      "\n",
      "Homo-Status\n",
      "Standard, Discard, Residual, Altered, Horizontal, SPEX, Covaris, nan\n",
      "\n",
      "\n",
      "Homo-Method\n",
      "Vertical, Plate Adaptor, TissueLyzer, Horizontal, SPEX, AFA, nan\n",
      "\n",
      "\n",
      "Homo-Holder\n",
      "Tubes, Plate, nan\n",
      "\n",
      "\n"
     ]
    }
   ],
   "source": [
    "#Print the variables for the metadata\n",
    "for i in manifest.drop(columns=['Source-PCR-Plate','CGR-Sample-ID']).columns:\n",
    "    print(i)\n",
    "    print(*manifest[i].unique(), sep = \", \")  \n",
    "    print('\\n')"
   ]
  },
  {
   "cell_type": "code",
   "execution_count": 7,
   "metadata": {
    "scrolled": true
   },
   "outputs": [
    {
     "data": {
      "text/plain": [
       "array(['180112_M01354_0104_000000000-BFN3F',\n",
       "       '180112_M03599_0134_000000000-BFD9Y',\n",
       "       '180328_M01354_0106_000000000-BFMHC',\n",
       "       '190617_M01354_0118_000000000-CHFG3'], dtype=object)"
      ]
     },
     "execution_count": 7,
     "metadata": {},
     "output_type": "execute_result"
    }
   ],
   "source": [
    "manifest[\"Run-ID\"].unique()"
   ]
  },
  {
   "cell_type": "code",
   "execution_count": 8,
   "metadata": {},
   "outputs": [
    {
     "data": {
      "text/html": [
       "<div>\n",
       "<style scoped>\n",
       "    .dataframe tbody tr th:only-of-type {\n",
       "        vertical-align: middle;\n",
       "    }\n",
       "\n",
       "    .dataframe tbody tr th {\n",
       "        vertical-align: top;\n",
       "    }\n",
       "\n",
       "    .dataframe thead th {\n",
       "        text-align: right;\n",
       "    }\n",
       "</style>\n",
       "<table border=\"1\" class=\"dataframe\">\n",
       "  <thead>\n",
       "    <tr style=\"text-align: right;\">\n",
       "      <th></th>\n",
       "      <th>Source-PCR-Plate</th>\n",
       "      <th>Run-ID</th>\n",
       "      <th>Project-ID</th>\n",
       "      <th>CGR-Sample-ID</th>\n",
       "      <th>Sample-Type</th>\n",
       "      <th>Sample-Des</th>\n",
       "      <th>Subject-ID</th>\n",
       "      <th>Reciept</th>\n",
       "      <th>Ext-Company</th>\n",
       "      <th>Ext-Kit</th>\n",
       "      <th>Ext-Robotics</th>\n",
       "      <th>Homo-Status</th>\n",
       "      <th>Homo-Method</th>\n",
       "      <th>Homo-Holder</th>\n",
       "    </tr>\n",
       "    <tr>\n",
       "      <th>Sample ID</th>\n",
       "      <th></th>\n",
       "      <th></th>\n",
       "      <th></th>\n",
       "      <th></th>\n",
       "      <th></th>\n",
       "      <th></th>\n",
       "      <th></th>\n",
       "      <th></th>\n",
       "      <th></th>\n",
       "      <th></th>\n",
       "      <th></th>\n",
       "      <th></th>\n",
       "      <th></th>\n",
       "      <th></th>\n",
       "    </tr>\n",
       "  </thead>\n",
       "  <tbody>\n",
       "    <tr>\n",
       "      <th>SC249358</th>\n",
       "      <td>PC04924</td>\n",
       "      <td>Run1</td>\n",
       "      <td>NP0084-MB4</td>\n",
       "      <td>SC249358</td>\n",
       "      <td>Ext_Control</td>\n",
       "      <td>art_col</td>\n",
       "      <td>DZ35322</td>\n",
       "      <td>sFEMB-001-R-002</td>\n",
       "      <td>Qiagen</td>\n",
       "      <td>DSP Virus</td>\n",
       "      <td>QIASymphony</td>\n",
       "      <td>Standard</td>\n",
       "      <td>Vertical</td>\n",
       "      <td>Tubes</td>\n",
       "    </tr>\n",
       "    <tr>\n",
       "      <th>SC249363</th>\n",
       "      <td>PC04924</td>\n",
       "      <td>Run1</td>\n",
       "      <td>NP0084-MB4</td>\n",
       "      <td>SC249363</td>\n",
       "      <td>Ext_Control</td>\n",
       "      <td>art_col</td>\n",
       "      <td>DZ35322</td>\n",
       "      <td>sFEMB-001-R-002</td>\n",
       "      <td>Qiagen</td>\n",
       "      <td>DSP Virus</td>\n",
       "      <td>QIASymphony</td>\n",
       "      <td>Standard</td>\n",
       "      <td>Vertical</td>\n",
       "      <td>Tubes</td>\n",
       "    </tr>\n",
       "    <tr>\n",
       "      <th>SC249366-PC04925-D-01</th>\n",
       "      <td>PC04925</td>\n",
       "      <td>Run2</td>\n",
       "      <td>NP0084-MB4</td>\n",
       "      <td>SC249366</td>\n",
       "      <td>Ext_Control</td>\n",
       "      <td>Ext_Blank</td>\n",
       "      <td>Water</td>\n",
       "      <td>sFEMB-001-R-002</td>\n",
       "      <td>Qiagen</td>\n",
       "      <td>DSP Virus</td>\n",
       "      <td>QIASymphony</td>\n",
       "      <td>Standard</td>\n",
       "      <td>Vertical</td>\n",
       "      <td>Tubes</td>\n",
       "    </tr>\n",
       "    <tr>\n",
       "      <th>SC249366-PC07578-D-01</th>\n",
       "      <td>PC07578</td>\n",
       "      <td>Run3</td>\n",
       "      <td>NP0084-MB5</td>\n",
       "      <td>SC249366</td>\n",
       "      <td>Ext_Control</td>\n",
       "      <td>Ext_Blank</td>\n",
       "      <td>Water</td>\n",
       "      <td>sFEMB-001-R-002</td>\n",
       "      <td>Qiagen</td>\n",
       "      <td>DSP Virus</td>\n",
       "      <td>QIASymphony</td>\n",
       "      <td>Standard</td>\n",
       "      <td>Vertical</td>\n",
       "      <td>Tubes</td>\n",
       "    </tr>\n",
       "    <tr>\n",
       "      <th>SC249367</th>\n",
       "      <td>PC04924</td>\n",
       "      <td>Run1</td>\n",
       "      <td>NP0084-MB4</td>\n",
       "      <td>SC249367</td>\n",
       "      <td>Ext_Control</td>\n",
       "      <td>Ext_Blank</td>\n",
       "      <td>Water</td>\n",
       "      <td>sFEMB-001-R-002</td>\n",
       "      <td>Qiagen</td>\n",
       "      <td>DSP Virus</td>\n",
       "      <td>QIASymphony</td>\n",
       "      <td>Standard</td>\n",
       "      <td>Vertical</td>\n",
       "      <td>Tubes</td>\n",
       "    </tr>\n",
       "  </tbody>\n",
       "</table>\n",
       "</div>"
      ],
      "text/plain": [
       "                      Source-PCR-Plate Run-ID  Project-ID CGR-Sample-ID  \\\n",
       "Sample ID                                                                 \n",
       "SC249358                       PC04924   Run1  NP0084-MB4      SC249358   \n",
       "SC249363                       PC04924   Run1  NP0084-MB4      SC249363   \n",
       "SC249366-PC04925-D-01          PC04925   Run2  NP0084-MB4      SC249366   \n",
       "SC249366-PC07578-D-01          PC07578   Run3  NP0084-MB5      SC249366   \n",
       "SC249367                       PC04924   Run1  NP0084-MB4      SC249367   \n",
       "\n",
       "                       Sample-Type Sample-Des Subject-ID          Reciept  \\\n",
       "Sample ID                                                                   \n",
       "SC249358               Ext_Control    art_col    DZ35322  sFEMB-001-R-002   \n",
       "SC249363               Ext_Control    art_col    DZ35322  sFEMB-001-R-002   \n",
       "SC249366-PC04925-D-01  Ext_Control  Ext_Blank      Water  sFEMB-001-R-002   \n",
       "SC249366-PC07578-D-01  Ext_Control  Ext_Blank      Water  sFEMB-001-R-002   \n",
       "SC249367               Ext_Control  Ext_Blank      Water  sFEMB-001-R-002   \n",
       "\n",
       "                      Ext-Company    Ext-Kit Ext-Robotics Homo-Status  \\\n",
       "Sample ID                                                               \n",
       "SC249358                   Qiagen  DSP Virus  QIASymphony    Standard   \n",
       "SC249363                   Qiagen  DSP Virus  QIASymphony    Standard   \n",
       "SC249366-PC04925-D-01      Qiagen  DSP Virus  QIASymphony    Standard   \n",
       "SC249366-PC07578-D-01      Qiagen  DSP Virus  QIASymphony    Standard   \n",
       "SC249367                   Qiagen  DSP Virus  QIASymphony    Standard   \n",
       "\n",
       "                      Homo-Method Homo-Holder  \n",
       "Sample ID                                      \n",
       "SC249358                 Vertical       Tubes  \n",
       "SC249363                 Vertical       Tubes  \n",
       "SC249366-PC04925-D-01    Vertical       Tubes  \n",
       "SC249366-PC07578-D-01    Vertical       Tubes  \n",
       "SC249367                 Vertical       Tubes  "
      ]
     },
     "execution_count": 8,
     "metadata": {},
     "output_type": "execute_result"
    }
   ],
   "source": [
    "#Rename run ids, remove well location\n",
    "manifest.replace({\"180112_M01354_0104_000000000-BFN3F\":\"Run1\",\"180112_M03599_0134_000000000-BFD9Y\":\"Run2\",\n",
    "                 \"180328_M01354_0106_000000000-BFMHC\":\"Run3\",\"190617_M01354_0118_000000000-CHFG3\":\"Run4\"},inplace=True)\n",
    "manifest.replace({r'_._..': r''}, inplace=True, regex=True)\n",
    "manifest.head()"
   ]
  },
  {
   "cell_type": "markdown",
   "metadata": {},
   "source": [
    "<h3 id=\"2.2&nbsp;&nbsp;Sample-selection\">2.2&nbsp;&nbsp;Sample selection</h3>\n",
    "\n",
    "There were a number of receipts included in this manifest, that will not be used. Additionally there is one sample type (Sample.Des=Biocollective) that will also not be used."
   ]
  },
  {
   "cell_type": "markdown",
   "metadata": {},
   "source": [
    "<h4 id=\"2.2.1&nbsp;&nbsp;Receipts-removed\">2.2.1&nbsp;&nbsp;Receipts removed</h4>\n",
    "Receipts were removed from the project for the following reasons:\n",
    "\n",
    "- Receipts that failed sequencing: R-01*, R-04, R-012\n",
    "- Receipts that were cancelled: R-23 to R-25*\n",
    "- Receipts that contained residuals: R-13, R-14, R-17\n",
    "\n",
    "*Not included in sequencing project, but found in LIMS"
   ]
  },
  {
   "cell_type": "code",
   "execution_count": 9,
   "metadata": {},
   "outputs": [],
   "source": [
    "def sort_list (m,col):\n",
    "    sort_list = [x for x in m[col].unique() if str(x) != 'nan']\n",
    "    sort_list.sort()\n",
    "    return sort_list"
   ]
  },
  {
   "cell_type": "code",
   "execution_count": 10,
   "metadata": {},
   "outputs": [
    {
     "name": "stdout",
     "output_type": "stream",
     "text": [
      "Receipt - Ext Kit - Homogenization Method\n",
      "sFEMB-001-R-002 - DSP Virus - Standard\n",
      "sFEMB-001-R-003 - 96 MagBead DNA Extraction Kit - Standard\n",
      "sFEMB-001-R-004 - 96 MagBead DNA Extraction Kit - Discard\n",
      "sFEMB-001-R-005 - MagAttract PowerSoil DNA Kit - Standard\n",
      "sFEMB-001-R-006 - MagAttract PowerSoil DNA Kit - Standard\n",
      "sFEMB-001-R-007 - MagAttract PowerMicrobiome Kit - Standard\n",
      "sFEMB-001-R-008 - MagAttract PowerMicrobiome Kit - Standard\n",
      "sFEMB-001-R-009 - QIAamp with Modifications - Standard\n",
      "sFEMB-001-R-010 - QIAamp with Modifications - Standard\n",
      "sFEMB-001-R-011 - DSP Virus - Standard\n",
      "sFEMB-001-R-012 - 96 MagBead DNA Extraction Kit - Discard\n",
      "sFEMB-001-R-013 - MagAttract PowerSoil DNA Kit - Residual\n",
      "sFEMB-001-R-014 - MagAttract PowerMicrobiome Kit - Residual\n",
      "sFEMB-001-R-015 - 96 MagBead DNA Extraction Kit - Standard\n",
      "sFEMB-001-R-016 - 96 MagBead DNA Extraction Kit - Standard\n",
      "sFEMB-001-R-017 - 96 MagBead DNA Extraction Kit - Residual\n",
      "sFEMB-001-R-034 - DNeasy PowerSoil Pro kit - Altered\n",
      "sFEMB-001-R-037 - MagAttract PowerSoil DNA Kit - Standard\n",
      "sFEMB-001-R-038 - MagAttract PowerMicrobiome Kit - Standard\n",
      "sFEMB-001-R-039 - DNeasy PowerSoil Pro kit - Standard\n",
      "sFEMB-001-R-040 - MagAttract PowerSoil DNA Kit - Standard\n",
      "sFEMB-001-R-041 - 96 MagBead DNA Extraction Kit - Standard\n",
      "sFEMB-001-R-042 - MagMax Microbiome Ultra Kit - Standard\n",
      "sFEMB-001-R-043 - DNeasy PowerSoil Pro kit - Horizontal\n",
      "sFEMB-001-R-044 - 96 MagBead DNA Extraction Kit - Horizontal\n",
      "sFEMB-001-R-045 - MagAttract PowerSoil DNA Kit - SPEX\n",
      "sFEMB-001-R-046 - MagAttract PowerMicrobiome Kit - SPEX\n",
      "sFEMB-001-R-047 - DNeasy PowerSoil Pro kit - SPEX\n",
      "sFEMB-001-R-048 - MagAttract PowerSoil DNA Kit - SPEX\n",
      "sFEMB-001-R-049 - 96 MagBead DNA Extraction Kit - SPEX\n",
      "sFEMB-001-R-050 - MagMax Microbiome Ultra Kit - SPEX\n",
      "sFEMB-001-R-051 - MagAttract PowerSoil DNA Kit - Covaris\n",
      "sFEMB-001-R-052 - MagAttract PowerMicrobiome Kit - Covaris\n",
      "sFEMB-001-R-053 - DNeasy PowerSoil Pro kit - Covaris\n",
      "sFEMB-001-R-054 - 96 MagBead DNA Extraction Kit - Covaris\n",
      "sFEMB-001-R-055 - MagMax Microbiome Ultra Kit - Covaris\n"
     ]
    }
   ],
   "source": [
    "print (\"Receipt\", \"Ext Kit\", \"Homogenization Method\", sep = \" - \")\n",
    "for i in sort_list(manifest,'Reciept'):\n",
    "    temp = manifest[(manifest['Reciept'] == i)]\n",
    "    col2 = temp['Ext-Kit'].unique()\n",
    "    col3 = temp['Homo-Status'].unique()\n",
    "    print (i, col2[0], col3[0],sep=\" - \")"
   ]
  },
  {
   "cell_type": "code",
   "execution_count": 11,
   "metadata": {},
   "outputs": [
    {
     "data": {
      "text/plain": [
       "(424, 14)"
      ]
     },
     "execution_count": 11,
     "metadata": {},
     "output_type": "execute_result"
    }
   ],
   "source": [
    "m_rec = manifest.copy()\n",
    "\n",
    "recp_num = ['04','12','13','14','17']\n",
    "drop_recp = []\n",
    "\n",
    "for i in recp_num:\n",
    "    drop_recp.append(\"sFEMB-001-R-0\" + i)\n",
    "\n",
    "m_rec = manifest[~manifest.Reciept.isin(drop_recp)]\n",
    "m_rec_rm = manifest[manifest.Reciept.isin(drop_recp)]\n",
    "m_rec.shape"
   ]
  },
  {
   "cell_type": "markdown",
   "metadata": {},
   "source": [
    "<h4 id=\"2.2.2&nbsp;&nbsp;Samples-removed\">2.2.2&nbsp;&nbsp;Samples removed</h4>"
   ]
  },
  {
   "cell_type": "code",
   "execution_count": 12,
   "metadata": {},
   "outputs": [
    {
     "data": {
      "text/plain": [
       "(389, 14)"
      ]
     },
     "execution_count": 12,
     "metadata": {},
     "output_type": "execute_result"
    }
   ],
   "source": [
    "m_nonbio = m_rec[m_rec['Sample-Des']!=\"Biocollective\"]\n",
    "m_nonbio.shape"
   ]
  },
  {
   "cell_type": "code",
   "execution_count": 13,
   "metadata": {},
   "outputs": [],
   "source": [
    "def metacount_all(df_in):\n",
    "    #Print the counts for all of the metadata\n",
    "    m = df_in.drop(columns=['ExternalID','Project-ID','ExtractionBatchID'],errors='ignore')\n",
    "\n",
    "    for i in m.columns:\n",
    "        display(m[i].value_counts().rename_axis(i).to_frame('Number of samples'))"
   ]
  },
  {
   "cell_type": "markdown",
   "metadata": {},
   "source": [
    "<h3 id=\"2.3&nbsp;&nbsp;Project-sample-metadata\">2.3&nbsp;&nbsp;Project sample metadata</h3>\n"
   ]
  },
  {
   "cell_type": "code",
   "execution_count": 14,
   "metadata": {
    "scrolled": true
   },
   "outputs": [
    {
     "data": {
      "text/html": [
       "<div>\n",
       "<style scoped>\n",
       "    .dataframe tbody tr th:only-of-type {\n",
       "        vertical-align: middle;\n",
       "    }\n",
       "\n",
       "    .dataframe tbody tr th {\n",
       "        vertical-align: top;\n",
       "    }\n",
       "\n",
       "    .dataframe thead th {\n",
       "        text-align: right;\n",
       "    }\n",
       "</style>\n",
       "<table border=\"1\" class=\"dataframe\">\n",
       "  <thead>\n",
       "    <tr style=\"text-align: right;\">\n",
       "      <th></th>\n",
       "      <th>Number of samples</th>\n",
       "    </tr>\n",
       "    <tr>\n",
       "      <th>Source-PCR-Plate</th>\n",
       "      <th></th>\n",
       "    </tr>\n",
       "  </thead>\n",
       "  <tbody>\n",
       "    <tr>\n",
       "      <th>PC04924</th>\n",
       "      <td>85</td>\n",
       "    </tr>\n",
       "    <tr>\n",
       "      <th>PC04925</th>\n",
       "      <td>79</td>\n",
       "    </tr>\n",
       "    <tr>\n",
       "      <th>PC22190</th>\n",
       "      <td>76</td>\n",
       "    </tr>\n",
       "    <tr>\n",
       "      <th>PC22192</th>\n",
       "      <td>75</td>\n",
       "    </tr>\n",
       "    <tr>\n",
       "      <th>PC07578</th>\n",
       "      <td>74</td>\n",
       "    </tr>\n",
       "  </tbody>\n",
       "</table>\n",
       "</div>"
      ],
      "text/plain": [
       "                  Number of samples\n",
       "Source-PCR-Plate                   \n",
       "PC04924                          85\n",
       "PC04925                          79\n",
       "PC22190                          76\n",
       "PC22192                          75\n",
       "PC07578                          74"
      ]
     },
     "metadata": {},
     "output_type": "display_data"
    },
    {
     "data": {
      "text/html": [
       "<div>\n",
       "<style scoped>\n",
       "    .dataframe tbody tr th:only-of-type {\n",
       "        vertical-align: middle;\n",
       "    }\n",
       "\n",
       "    .dataframe tbody tr th {\n",
       "        vertical-align: top;\n",
       "    }\n",
       "\n",
       "    .dataframe thead th {\n",
       "        text-align: right;\n",
       "    }\n",
       "</style>\n",
       "<table border=\"1\" class=\"dataframe\">\n",
       "  <thead>\n",
       "    <tr style=\"text-align: right;\">\n",
       "      <th></th>\n",
       "      <th>Number of samples</th>\n",
       "    </tr>\n",
       "    <tr>\n",
       "      <th>Run-ID</th>\n",
       "      <th></th>\n",
       "    </tr>\n",
       "  </thead>\n",
       "  <tbody>\n",
       "    <tr>\n",
       "      <th>Run4</th>\n",
       "      <td>151</td>\n",
       "    </tr>\n",
       "    <tr>\n",
       "      <th>Run1</th>\n",
       "      <td>85</td>\n",
       "    </tr>\n",
       "    <tr>\n",
       "      <th>Run2</th>\n",
       "      <td>79</td>\n",
       "    </tr>\n",
       "    <tr>\n",
       "      <th>Run3</th>\n",
       "      <td>74</td>\n",
       "    </tr>\n",
       "  </tbody>\n",
       "</table>\n",
       "</div>"
      ],
      "text/plain": [
       "        Number of samples\n",
       "Run-ID                   \n",
       "Run4                  151\n",
       "Run1                   85\n",
       "Run2                   79\n",
       "Run3                   74"
      ]
     },
     "metadata": {},
     "output_type": "display_data"
    },
    {
     "data": {
      "text/html": [
       "<div>\n",
       "<style scoped>\n",
       "    .dataframe tbody tr th:only-of-type {\n",
       "        vertical-align: middle;\n",
       "    }\n",
       "\n",
       "    .dataframe tbody tr th {\n",
       "        vertical-align: top;\n",
       "    }\n",
       "\n",
       "    .dataframe thead th {\n",
       "        text-align: right;\n",
       "    }\n",
       "</style>\n",
       "<table border=\"1\" class=\"dataframe\">\n",
       "  <thead>\n",
       "    <tr style=\"text-align: right;\">\n",
       "      <th></th>\n",
       "      <th>Number of samples</th>\n",
       "    </tr>\n",
       "    <tr>\n",
       "      <th>CGR-Sample-ID</th>\n",
       "      <th></th>\n",
       "    </tr>\n",
       "  </thead>\n",
       "  <tbody>\n",
       "    <tr>\n",
       "      <th>SC249448</th>\n",
       "      <td>4</td>\n",
       "    </tr>\n",
       "    <tr>\n",
       "      <th>SC253846</th>\n",
       "      <td>3</td>\n",
       "    </tr>\n",
       "    <tr>\n",
       "      <th>SC253201</th>\n",
       "      <td>3</td>\n",
       "    </tr>\n",
       "    <tr>\n",
       "      <th>SC249408</th>\n",
       "      <td>3</td>\n",
       "    </tr>\n",
       "    <tr>\n",
       "      <th>SC249437</th>\n",
       "      <td>3</td>\n",
       "    </tr>\n",
       "    <tr>\n",
       "      <th>...</th>\n",
       "      <td>...</td>\n",
       "    </tr>\n",
       "    <tr>\n",
       "      <th>SC284732</th>\n",
       "      <td>1</td>\n",
       "    </tr>\n",
       "    <tr>\n",
       "      <th>SC552952</th>\n",
       "      <td>1</td>\n",
       "    </tr>\n",
       "    <tr>\n",
       "      <th>SC553082</th>\n",
       "      <td>1</td>\n",
       "    </tr>\n",
       "    <tr>\n",
       "      <th>SC502444</th>\n",
       "      <td>1</td>\n",
       "    </tr>\n",
       "    <tr>\n",
       "      <th>SC553061</th>\n",
       "      <td>1</td>\n",
       "    </tr>\n",
       "  </tbody>\n",
       "</table>\n",
       "<p>298 rows × 1 columns</p>\n",
       "</div>"
      ],
      "text/plain": [
       "               Number of samples\n",
       "CGR-Sample-ID                   \n",
       "SC249448                       4\n",
       "SC253846                       3\n",
       "SC253201                       3\n",
       "SC249408                       3\n",
       "SC249437                       3\n",
       "...                          ...\n",
       "SC284732                       1\n",
       "SC552952                       1\n",
       "SC553082                       1\n",
       "SC502444                       1\n",
       "SC553061                       1\n",
       "\n",
       "[298 rows x 1 columns]"
      ]
     },
     "metadata": {},
     "output_type": "display_data"
    },
    {
     "data": {
      "text/html": [
       "<div>\n",
       "<style scoped>\n",
       "    .dataframe tbody tr th:only-of-type {\n",
       "        vertical-align: middle;\n",
       "    }\n",
       "\n",
       "    .dataframe tbody tr th {\n",
       "        vertical-align: top;\n",
       "    }\n",
       "\n",
       "    .dataframe thead th {\n",
       "        text-align: right;\n",
       "    }\n",
       "</style>\n",
       "<table border=\"1\" class=\"dataframe\">\n",
       "  <thead>\n",
       "    <tr style=\"text-align: right;\">\n",
       "      <th></th>\n",
       "      <th>Number of samples</th>\n",
       "    </tr>\n",
       "    <tr>\n",
       "      <th>Sample-Type</th>\n",
       "      <th></th>\n",
       "    </tr>\n",
       "  </thead>\n",
       "  <tbody>\n",
       "    <tr>\n",
       "      <th>Study</th>\n",
       "      <td>180</td>\n",
       "    </tr>\n",
       "    <tr>\n",
       "      <th>Ext_Control</th>\n",
       "      <td>167</td>\n",
       "    </tr>\n",
       "    <tr>\n",
       "      <th>Seq_Control</th>\n",
       "      <td>42</td>\n",
       "    </tr>\n",
       "  </tbody>\n",
       "</table>\n",
       "</div>"
      ],
      "text/plain": [
       "             Number of samples\n",
       "Sample-Type                   \n",
       "Study                      180\n",
       "Ext_Control                167\n",
       "Seq_Control                 42"
      ]
     },
     "metadata": {},
     "output_type": "display_data"
    },
    {
     "data": {
      "text/html": [
       "<div>\n",
       "<style scoped>\n",
       "    .dataframe tbody tr th:only-of-type {\n",
       "        vertical-align: middle;\n",
       "    }\n",
       "\n",
       "    .dataframe tbody tr th {\n",
       "        vertical-align: top;\n",
       "    }\n",
       "\n",
       "    .dataframe thead th {\n",
       "        text-align: right;\n",
       "    }\n",
       "</style>\n",
       "<table border=\"1\" class=\"dataframe\">\n",
       "  <thead>\n",
       "    <tr style=\"text-align: right;\">\n",
       "      <th></th>\n",
       "      <th>Number of samples</th>\n",
       "    </tr>\n",
       "    <tr>\n",
       "      <th>Sample-Des</th>\n",
       "      <th></th>\n",
       "    </tr>\n",
       "  </thead>\n",
       "  <tbody>\n",
       "    <tr>\n",
       "      <th>human_1</th>\n",
       "      <td>131</td>\n",
       "    </tr>\n",
       "    <tr>\n",
       "      <th>ZymoBiomics</th>\n",
       "      <td>91</td>\n",
       "    </tr>\n",
       "    <tr>\n",
       "      <th>Ext_Blank</th>\n",
       "      <td>58</td>\n",
       "    </tr>\n",
       "    <tr>\n",
       "      <th>Robogut</th>\n",
       "      <td>49</td>\n",
       "    </tr>\n",
       "    <tr>\n",
       "      <th>art_col</th>\n",
       "      <td>30</td>\n",
       "    </tr>\n",
       "    <tr>\n",
       "      <th>MSA</th>\n",
       "      <td>20</td>\n",
       "    </tr>\n",
       "    <tr>\n",
       "      <th>Seq_Blank</th>\n",
       "      <td>10</td>\n",
       "    </tr>\n",
       "  </tbody>\n",
       "</table>\n",
       "</div>"
      ],
      "text/plain": [
       "             Number of samples\n",
       "Sample-Des                    \n",
       "human_1                    131\n",
       "ZymoBiomics                 91\n",
       "Ext_Blank                   58\n",
       "Robogut                     49\n",
       "art_col                     30\n",
       "MSA                         20\n",
       "Seq_Blank                   10"
      ]
     },
     "metadata": {},
     "output_type": "display_data"
    },
    {
     "data": {
      "text/html": [
       "<div>\n",
       "<style scoped>\n",
       "    .dataframe tbody tr th:only-of-type {\n",
       "        vertical-align: middle;\n",
       "    }\n",
       "\n",
       "    .dataframe tbody tr th {\n",
       "        vertical-align: top;\n",
       "    }\n",
       "\n",
       "    .dataframe thead th {\n",
       "        text-align: right;\n",
       "    }\n",
       "</style>\n",
       "<table border=\"1\" class=\"dataframe\">\n",
       "  <thead>\n",
       "    <tr style=\"text-align: right;\">\n",
       "      <th></th>\n",
       "      <th>Number of samples</th>\n",
       "    </tr>\n",
       "    <tr>\n",
       "      <th>Subject-ID</th>\n",
       "      <th></th>\n",
       "    </tr>\n",
       "  </thead>\n",
       "  <tbody>\n",
       "    <tr>\n",
       "      <th>human_1</th>\n",
       "      <td>131</td>\n",
       "    </tr>\n",
       "    <tr>\n",
       "      <th>Water</th>\n",
       "      <td>58</td>\n",
       "    </tr>\n",
       "    <tr>\n",
       "      <th>D6300</th>\n",
       "      <td>57</td>\n",
       "    </tr>\n",
       "    <tr>\n",
       "      <th>DZ35298</th>\n",
       "      <td>49</td>\n",
       "    </tr>\n",
       "    <tr>\n",
       "      <th>DZ35322</th>\n",
       "      <td>25</td>\n",
       "    </tr>\n",
       "    <tr>\n",
       "      <th>D6310</th>\n",
       "      <td>22</td>\n",
       "    </tr>\n",
       "    <tr>\n",
       "      <th>D6305</th>\n",
       "      <td>5</td>\n",
       "    </tr>\n",
       "    <tr>\n",
       "      <th>DZ35316</th>\n",
       "      <td>5</td>\n",
       "    </tr>\n",
       "    <tr>\n",
       "      <th>MSA1002</th>\n",
       "      <td>5</td>\n",
       "    </tr>\n",
       "    <tr>\n",
       "      <th>MSA1001</th>\n",
       "      <td>5</td>\n",
       "    </tr>\n",
       "    <tr>\n",
       "      <th>MSA1003</th>\n",
       "      <td>5</td>\n",
       "    </tr>\n",
       "    <tr>\n",
       "      <th>D6306</th>\n",
       "      <td>5</td>\n",
       "    </tr>\n",
       "    <tr>\n",
       "      <th>MSA1000</th>\n",
       "      <td>5</td>\n",
       "    </tr>\n",
       "    <tr>\n",
       "      <th>PCR_Blank</th>\n",
       "      <td>5</td>\n",
       "    </tr>\n",
       "    <tr>\n",
       "      <th>NTC_Blank</th>\n",
       "      <td>5</td>\n",
       "    </tr>\n",
       "    <tr>\n",
       "      <th>D6311</th>\n",
       "      <td>2</td>\n",
       "    </tr>\n",
       "  </tbody>\n",
       "</table>\n",
       "</div>"
      ],
      "text/plain": [
       "            Number of samples\n",
       "Subject-ID                   \n",
       "human_1                   131\n",
       "Water                      58\n",
       "D6300                      57\n",
       "DZ35298                    49\n",
       "DZ35322                    25\n",
       "D6310                      22\n",
       "D6305                       5\n",
       "DZ35316                     5\n",
       "MSA1002                     5\n",
       "MSA1001                     5\n",
       "MSA1003                     5\n",
       "D6306                       5\n",
       "MSA1000                     5\n",
       "PCR_Blank                   5\n",
       "NTC_Blank                   5\n",
       "D6311                       2"
      ]
     },
     "metadata": {},
     "output_type": "display_data"
    },
    {
     "data": {
      "text/html": [
       "<div>\n",
       "<style scoped>\n",
       "    .dataframe tbody tr th:only-of-type {\n",
       "        vertical-align: middle;\n",
       "    }\n",
       "\n",
       "    .dataframe tbody tr th {\n",
       "        vertical-align: top;\n",
       "    }\n",
       "\n",
       "    .dataframe thead th {\n",
       "        text-align: right;\n",
       "    }\n",
       "</style>\n",
       "<table border=\"1\" class=\"dataframe\">\n",
       "  <thead>\n",
       "    <tr style=\"text-align: right;\">\n",
       "      <th></th>\n",
       "      <th>Number of samples</th>\n",
       "    </tr>\n",
       "    <tr>\n",
       "      <th>Reciept</th>\n",
       "      <th></th>\n",
       "    </tr>\n",
       "  </thead>\n",
       "  <tbody>\n",
       "    <tr>\n",
       "      <th>sFEMB-001-R-007</th>\n",
       "      <td>26</td>\n",
       "    </tr>\n",
       "    <tr>\n",
       "      <th>sFEMB-001-R-002</th>\n",
       "      <td>24</td>\n",
       "    </tr>\n",
       "    <tr>\n",
       "      <th>sFEMB-001-R-006</th>\n",
       "      <td>23</td>\n",
       "    </tr>\n",
       "    <tr>\n",
       "      <th>sFEMB-001-R-008</th>\n",
       "      <td>22</td>\n",
       "    </tr>\n",
       "    <tr>\n",
       "      <th>sFEMB-001-R-010</th>\n",
       "      <td>21</td>\n",
       "    </tr>\n",
       "    <tr>\n",
       "      <th>sFEMB-001-R-011</th>\n",
       "      <td>21</td>\n",
       "    </tr>\n",
       "    <tr>\n",
       "      <th>sFEMB-001-R-005</th>\n",
       "      <td>21</td>\n",
       "    </tr>\n",
       "    <tr>\n",
       "      <th>sFEMB-001-R-009</th>\n",
       "      <td>18</td>\n",
       "    </tr>\n",
       "    <tr>\n",
       "      <th>sFEMB-001-R-003</th>\n",
       "      <td>18</td>\n",
       "    </tr>\n",
       "    <tr>\n",
       "      <th>sFEMB-001-R-034</th>\n",
       "      <td>16</td>\n",
       "    </tr>\n",
       "    <tr>\n",
       "      <th>sFEMB-001-R-052</th>\n",
       "      <td>14</td>\n",
       "    </tr>\n",
       "    <tr>\n",
       "      <th>sFEMB-001-R-016</th>\n",
       "      <td>10</td>\n",
       "    </tr>\n",
       "    <tr>\n",
       "      <th>sFEMB-001-R-039</th>\n",
       "      <td>10</td>\n",
       "    </tr>\n",
       "    <tr>\n",
       "      <th>sFEMB-001-R-015</th>\n",
       "      <td>10</td>\n",
       "    </tr>\n",
       "    <tr>\n",
       "      <th>sFEMB-001-R-038</th>\n",
       "      <td>9</td>\n",
       "    </tr>\n",
       "    <tr>\n",
       "      <th>sFEMB-001-R-037</th>\n",
       "      <td>9</td>\n",
       "    </tr>\n",
       "    <tr>\n",
       "      <th>sFEMB-001-R-040</th>\n",
       "      <td>9</td>\n",
       "    </tr>\n",
       "    <tr>\n",
       "      <th>sFEMB-001-R-042</th>\n",
       "      <td>9</td>\n",
       "    </tr>\n",
       "    <tr>\n",
       "      <th>sFEMB-001-R-041</th>\n",
       "      <td>9</td>\n",
       "    </tr>\n",
       "    <tr>\n",
       "      <th>sFEMB-001-R-049</th>\n",
       "      <td>4</td>\n",
       "    </tr>\n",
       "    <tr>\n",
       "      <th>sFEMB-001-R-043</th>\n",
       "      <td>4</td>\n",
       "    </tr>\n",
       "    <tr>\n",
       "      <th>sFEMB-001-R-046</th>\n",
       "      <td>4</td>\n",
       "    </tr>\n",
       "    <tr>\n",
       "      <th>sFEMB-001-R-047</th>\n",
       "      <td>4</td>\n",
       "    </tr>\n",
       "    <tr>\n",
       "      <th>sFEMB-001-R-045</th>\n",
       "      <td>4</td>\n",
       "    </tr>\n",
       "    <tr>\n",
       "      <th>sFEMB-001-R-044</th>\n",
       "      <td>4</td>\n",
       "    </tr>\n",
       "    <tr>\n",
       "      <th>sFEMB-001-R-054</th>\n",
       "      <td>4</td>\n",
       "    </tr>\n",
       "    <tr>\n",
       "      <th>sFEMB-001-R-053</th>\n",
       "      <td>4</td>\n",
       "    </tr>\n",
       "    <tr>\n",
       "      <th>sFEMB-001-R-048</th>\n",
       "      <td>4</td>\n",
       "    </tr>\n",
       "    <tr>\n",
       "      <th>sFEMB-001-R-050</th>\n",
       "      <td>4</td>\n",
       "    </tr>\n",
       "    <tr>\n",
       "      <th>sFEMB-001-R-055</th>\n",
       "      <td>4</td>\n",
       "    </tr>\n",
       "    <tr>\n",
       "      <th>sFEMB-001-R-051</th>\n",
       "      <td>4</td>\n",
       "    </tr>\n",
       "  </tbody>\n",
       "</table>\n",
       "</div>"
      ],
      "text/plain": [
       "                 Number of samples\n",
       "Reciept                           \n",
       "sFEMB-001-R-007                 26\n",
       "sFEMB-001-R-002                 24\n",
       "sFEMB-001-R-006                 23\n",
       "sFEMB-001-R-008                 22\n",
       "sFEMB-001-R-010                 21\n",
       "sFEMB-001-R-011                 21\n",
       "sFEMB-001-R-005                 21\n",
       "sFEMB-001-R-009                 18\n",
       "sFEMB-001-R-003                 18\n",
       "sFEMB-001-R-034                 16\n",
       "sFEMB-001-R-052                 14\n",
       "sFEMB-001-R-016                 10\n",
       "sFEMB-001-R-039                 10\n",
       "sFEMB-001-R-015                 10\n",
       "sFEMB-001-R-038                  9\n",
       "sFEMB-001-R-037                  9\n",
       "sFEMB-001-R-040                  9\n",
       "sFEMB-001-R-042                  9\n",
       "sFEMB-001-R-041                  9\n",
       "sFEMB-001-R-049                  4\n",
       "sFEMB-001-R-043                  4\n",
       "sFEMB-001-R-046                  4\n",
       "sFEMB-001-R-047                  4\n",
       "sFEMB-001-R-045                  4\n",
       "sFEMB-001-R-044                  4\n",
       "sFEMB-001-R-054                  4\n",
       "sFEMB-001-R-053                  4\n",
       "sFEMB-001-R-048                  4\n",
       "sFEMB-001-R-050                  4\n",
       "sFEMB-001-R-055                  4\n",
       "sFEMB-001-R-051                  4"
      ]
     },
     "metadata": {},
     "output_type": "display_data"
    },
    {
     "data": {
      "text/html": [
       "<div>\n",
       "<style scoped>\n",
       "    .dataframe tbody tr th:only-of-type {\n",
       "        vertical-align: middle;\n",
       "    }\n",
       "\n",
       "    .dataframe tbody tr th {\n",
       "        vertical-align: top;\n",
       "    }\n",
       "\n",
       "    .dataframe thead th {\n",
       "        text-align: right;\n",
       "    }\n",
       "</style>\n",
       "<table border=\"1\" class=\"dataframe\">\n",
       "  <thead>\n",
       "    <tr style=\"text-align: right;\">\n",
       "      <th></th>\n",
       "      <th>Number of samples</th>\n",
       "    </tr>\n",
       "    <tr>\n",
       "      <th>Ext-Company</th>\n",
       "      <th></th>\n",
       "    </tr>\n",
       "  </thead>\n",
       "  <tbody>\n",
       "    <tr>\n",
       "      <th>Qiagen</th>\n",
       "      <td>271</td>\n",
       "    </tr>\n",
       "    <tr>\n",
       "      <th>ZymoResearch</th>\n",
       "      <td>59</td>\n",
       "    </tr>\n",
       "    <tr>\n",
       "      <th>ThermoFisher</th>\n",
       "      <td>17</td>\n",
       "    </tr>\n",
       "  </tbody>\n",
       "</table>\n",
       "</div>"
      ],
      "text/plain": [
       "              Number of samples\n",
       "Ext-Company                    \n",
       "Qiagen                      271\n",
       "ZymoResearch                 59\n",
       "ThermoFisher                 17"
      ]
     },
     "metadata": {},
     "output_type": "display_data"
    },
    {
     "data": {
      "text/html": [
       "<div>\n",
       "<style scoped>\n",
       "    .dataframe tbody tr th:only-of-type {\n",
       "        vertical-align: middle;\n",
       "    }\n",
       "\n",
       "    .dataframe tbody tr th {\n",
       "        vertical-align: top;\n",
       "    }\n",
       "\n",
       "    .dataframe thead th {\n",
       "        text-align: right;\n",
       "    }\n",
       "</style>\n",
       "<table border=\"1\" class=\"dataframe\">\n",
       "  <thead>\n",
       "    <tr style=\"text-align: right;\">\n",
       "      <th></th>\n",
       "      <th>Number of samples</th>\n",
       "    </tr>\n",
       "    <tr>\n",
       "      <th>Ext-Kit</th>\n",
       "      <th></th>\n",
       "    </tr>\n",
       "  </thead>\n",
       "  <tbody>\n",
       "    <tr>\n",
       "      <th>MagAttract PowerMicrobiome Kit</th>\n",
       "      <td>75</td>\n",
       "    </tr>\n",
       "    <tr>\n",
       "      <th>MagAttract PowerSoil DNA Kit</th>\n",
       "      <td>74</td>\n",
       "    </tr>\n",
       "    <tr>\n",
       "      <th>96 MagBead DNA Extraction Kit</th>\n",
       "      <td>59</td>\n",
       "    </tr>\n",
       "    <tr>\n",
       "      <th>DSP Virus</th>\n",
       "      <td>45</td>\n",
       "    </tr>\n",
       "    <tr>\n",
       "      <th>QIAamp with Modifications</th>\n",
       "      <td>39</td>\n",
       "    </tr>\n",
       "    <tr>\n",
       "      <th>DNeasy PowerSoil Pro kit</th>\n",
       "      <td>38</td>\n",
       "    </tr>\n",
       "    <tr>\n",
       "      <th>MagMax Microbiome Ultra Kit</th>\n",
       "      <td>17</td>\n",
       "    </tr>\n",
       "  </tbody>\n",
       "</table>\n",
       "</div>"
      ],
      "text/plain": [
       "                                Number of samples\n",
       "Ext-Kit                                          \n",
       "MagAttract PowerMicrobiome Kit                 75\n",
       "MagAttract PowerSoil DNA Kit                   74\n",
       "96 MagBead DNA Extraction Kit                  59\n",
       "DSP Virus                                      45\n",
       "QIAamp with Modifications                      39\n",
       "DNeasy PowerSoil Pro kit                       38\n",
       "MagMax Microbiome Ultra Kit                    17"
      ]
     },
     "metadata": {},
     "output_type": "display_data"
    },
    {
     "data": {
      "text/html": [
       "<div>\n",
       "<style scoped>\n",
       "    .dataframe tbody tr th:only-of-type {\n",
       "        vertical-align: middle;\n",
       "    }\n",
       "\n",
       "    .dataframe tbody tr th {\n",
       "        vertical-align: top;\n",
       "    }\n",
       "\n",
       "    .dataframe thead th {\n",
       "        text-align: right;\n",
       "    }\n",
       "</style>\n",
       "<table border=\"1\" class=\"dataframe\">\n",
       "  <thead>\n",
       "    <tr style=\"text-align: right;\">\n",
       "      <th></th>\n",
       "      <th>Number of samples</th>\n",
       "    </tr>\n",
       "    <tr>\n",
       "      <th>Ext-Robotics</th>\n",
       "      <th></th>\n",
       "    </tr>\n",
       "  </thead>\n",
       "  <tbody>\n",
       "    <tr>\n",
       "      <th>KingFisher</th>\n",
       "      <td>166</td>\n",
       "    </tr>\n",
       "    <tr>\n",
       "      <th>None</th>\n",
       "      <td>120</td>\n",
       "    </tr>\n",
       "    <tr>\n",
       "      <th>QIASymphony</th>\n",
       "      <td>45</td>\n",
       "    </tr>\n",
       "    <tr>\n",
       "      <th>QIACube HT</th>\n",
       "      <td>16</td>\n",
       "    </tr>\n",
       "  </tbody>\n",
       "</table>\n",
       "</div>"
      ],
      "text/plain": [
       "              Number of samples\n",
       "Ext-Robotics                   \n",
       "KingFisher                  166\n",
       "None                        120\n",
       "QIASymphony                  45\n",
       "QIACube HT                   16"
      ]
     },
     "metadata": {},
     "output_type": "display_data"
    },
    {
     "data": {
      "text/html": [
       "<div>\n",
       "<style scoped>\n",
       "    .dataframe tbody tr th:only-of-type {\n",
       "        vertical-align: middle;\n",
       "    }\n",
       "\n",
       "    .dataframe tbody tr th {\n",
       "        vertical-align: top;\n",
       "    }\n",
       "\n",
       "    .dataframe thead th {\n",
       "        text-align: right;\n",
       "    }\n",
       "</style>\n",
       "<table border=\"1\" class=\"dataframe\">\n",
       "  <thead>\n",
       "    <tr style=\"text-align: right;\">\n",
       "      <th></th>\n",
       "      <th>Number of samples</th>\n",
       "    </tr>\n",
       "    <tr>\n",
       "      <th>Homo-Status</th>\n",
       "      <th></th>\n",
       "    </tr>\n",
       "  </thead>\n",
       "  <tbody>\n",
       "    <tr>\n",
       "      <th>Standard</th>\n",
       "      <td>269</td>\n",
       "    </tr>\n",
       "    <tr>\n",
       "      <th>Covaris</th>\n",
       "      <td>30</td>\n",
       "    </tr>\n",
       "    <tr>\n",
       "      <th>SPEX</th>\n",
       "      <td>24</td>\n",
       "    </tr>\n",
       "    <tr>\n",
       "      <th>Altered</th>\n",
       "      <td>16</td>\n",
       "    </tr>\n",
       "    <tr>\n",
       "      <th>Horizontal</th>\n",
       "      <td>8</td>\n",
       "    </tr>\n",
       "  </tbody>\n",
       "</table>\n",
       "</div>"
      ],
      "text/plain": [
       "             Number of samples\n",
       "Homo-Status                   \n",
       "Standard                   269\n",
       "Covaris                     30\n",
       "SPEX                        24\n",
       "Altered                     16\n",
       "Horizontal                   8"
      ]
     },
     "metadata": {},
     "output_type": "display_data"
    },
    {
     "data": {
      "text/html": [
       "<div>\n",
       "<style scoped>\n",
       "    .dataframe tbody tr th:only-of-type {\n",
       "        vertical-align: middle;\n",
       "    }\n",
       "\n",
       "    .dataframe tbody tr th {\n",
       "        vertical-align: top;\n",
       "    }\n",
       "\n",
       "    .dataframe thead th {\n",
       "        text-align: right;\n",
       "    }\n",
       "</style>\n",
       "<table border=\"1\" class=\"dataframe\">\n",
       "  <thead>\n",
       "    <tr style=\"text-align: right;\">\n",
       "      <th></th>\n",
       "      <th>Number of samples</th>\n",
       "    </tr>\n",
       "    <tr>\n",
       "      <th>Homo-Method</th>\n",
       "      <th></th>\n",
       "    </tr>\n",
       "  </thead>\n",
       "  <tbody>\n",
       "    <tr>\n",
       "      <th>Vertical</th>\n",
       "      <td>139</td>\n",
       "    </tr>\n",
       "    <tr>\n",
       "      <th>TissueLyzer</th>\n",
       "      <td>128</td>\n",
       "    </tr>\n",
       "    <tr>\n",
       "      <th>AFA</th>\n",
       "      <td>30</td>\n",
       "    </tr>\n",
       "    <tr>\n",
       "      <th>SPEX</th>\n",
       "      <td>24</td>\n",
       "    </tr>\n",
       "    <tr>\n",
       "      <th>Plate Adaptor</th>\n",
       "      <td>18</td>\n",
       "    </tr>\n",
       "    <tr>\n",
       "      <th>Horizontal</th>\n",
       "      <td>8</td>\n",
       "    </tr>\n",
       "  </tbody>\n",
       "</table>\n",
       "</div>"
      ],
      "text/plain": [
       "               Number of samples\n",
       "Homo-Method                     \n",
       "Vertical                     139\n",
       "TissueLyzer                  128\n",
       "AFA                           30\n",
       "SPEX                          24\n",
       "Plate Adaptor                 18\n",
       "Horizontal                     8"
      ]
     },
     "metadata": {},
     "output_type": "display_data"
    },
    {
     "data": {
      "text/html": [
       "<div>\n",
       "<style scoped>\n",
       "    .dataframe tbody tr th:only-of-type {\n",
       "        vertical-align: middle;\n",
       "    }\n",
       "\n",
       "    .dataframe tbody tr th {\n",
       "        vertical-align: top;\n",
       "    }\n",
       "\n",
       "    .dataframe thead th {\n",
       "        text-align: right;\n",
       "    }\n",
       "</style>\n",
       "<table border=\"1\" class=\"dataframe\">\n",
       "  <thead>\n",
       "    <tr style=\"text-align: right;\">\n",
       "      <th></th>\n",
       "      <th>Number of samples</th>\n",
       "    </tr>\n",
       "    <tr>\n",
       "      <th>Homo-Holder</th>\n",
       "      <th></th>\n",
       "    </tr>\n",
       "  </thead>\n",
       "  <tbody>\n",
       "    <tr>\n",
       "      <th>Tubes</th>\n",
       "      <td>181</td>\n",
       "    </tr>\n",
       "    <tr>\n",
       "      <th>Plate</th>\n",
       "      <td>166</td>\n",
       "    </tr>\n",
       "  </tbody>\n",
       "</table>\n",
       "</div>"
      ],
      "text/plain": [
       "             Number of samples\n",
       "Homo-Holder                   \n",
       "Tubes                      181\n",
       "Plate                      166"
      ]
     },
     "metadata": {},
     "output_type": "display_data"
    }
   ],
   "source": [
    "metacount_all(m_nonbio)"
   ]
  },
  {
   "cell_type": "code",
   "execution_count": 15,
   "metadata": {},
   "outputs": [],
   "source": [
    "def metacount_run_sub(df_in):\n",
    "    tmp = df_in[['Run-ID','Subject-ID']].copy()\n",
    "    tmp = tmp.groupby(['Run-ID','Subject-ID'])\n",
    "    display(tmp.size().to_frame('Subject-ID').join(tmp.apply(list).apply(pd.Series)))"
   ]
  },
  {
   "cell_type": "code",
   "execution_count": 16,
   "metadata": {},
   "outputs": [
    {
     "data": {
      "text/html": [
       "<div>\n",
       "<style scoped>\n",
       "    .dataframe tbody tr th:only-of-type {\n",
       "        vertical-align: middle;\n",
       "    }\n",
       "\n",
       "    .dataframe tbody tr th {\n",
       "        vertical-align: top;\n",
       "    }\n",
       "\n",
       "    .dataframe thead th {\n",
       "        text-align: right;\n",
       "    }\n",
       "</style>\n",
       "<table border=\"1\" class=\"dataframe\">\n",
       "  <thead>\n",
       "    <tr style=\"text-align: right;\">\n",
       "      <th></th>\n",
       "      <th></th>\n",
       "      <th>Subject-ID</th>\n",
       "      <th>0</th>\n",
       "      <th>1</th>\n",
       "    </tr>\n",
       "    <tr>\n",
       "      <th>Run-ID</th>\n",
       "      <th>Subject-ID</th>\n",
       "      <th></th>\n",
       "      <th></th>\n",
       "      <th></th>\n",
       "    </tr>\n",
       "  </thead>\n",
       "  <tbody>\n",
       "    <tr>\n",
       "      <th rowspan=\"13\" valign=\"top\">Run1</th>\n",
       "      <th>D6300</th>\n",
       "      <td>14</td>\n",
       "      <td>Run-ID</td>\n",
       "      <td>Subject-ID</td>\n",
       "    </tr>\n",
       "    <tr>\n",
       "      <th>D6305</th>\n",
       "      <td>1</td>\n",
       "      <td>Run-ID</td>\n",
       "      <td>Subject-ID</td>\n",
       "    </tr>\n",
       "    <tr>\n",
       "      <th>D6306</th>\n",
       "      <td>1</td>\n",
       "      <td>Run-ID</td>\n",
       "      <td>Subject-ID</td>\n",
       "    </tr>\n",
       "    <tr>\n",
       "      <th>DZ35298</th>\n",
       "      <td>14</td>\n",
       "      <td>Run-ID</td>\n",
       "      <td>Subject-ID</td>\n",
       "    </tr>\n",
       "    <tr>\n",
       "      <th>DZ35322</th>\n",
       "      <td>14</td>\n",
       "      <td>Run-ID</td>\n",
       "      <td>Subject-ID</td>\n",
       "    </tr>\n",
       "    <tr>\n",
       "      <th>MSA1000</th>\n",
       "      <td>1</td>\n",
       "      <td>Run-ID</td>\n",
       "      <td>Subject-ID</td>\n",
       "    </tr>\n",
       "    <tr>\n",
       "      <th>MSA1001</th>\n",
       "      <td>1</td>\n",
       "      <td>Run-ID</td>\n",
       "      <td>Subject-ID</td>\n",
       "    </tr>\n",
       "    <tr>\n",
       "      <th>MSA1002</th>\n",
       "      <td>1</td>\n",
       "      <td>Run-ID</td>\n",
       "      <td>Subject-ID</td>\n",
       "    </tr>\n",
       "    <tr>\n",
       "      <th>MSA1003</th>\n",
       "      <td>1</td>\n",
       "      <td>Run-ID</td>\n",
       "      <td>Subject-ID</td>\n",
       "    </tr>\n",
       "    <tr>\n",
       "      <th>NTC_Blank</th>\n",
       "      <td>1</td>\n",
       "      <td>Run-ID</td>\n",
       "      <td>Subject-ID</td>\n",
       "    </tr>\n",
       "    <tr>\n",
       "      <th>PCR_Blank</th>\n",
       "      <td>1</td>\n",
       "      <td>Run-ID</td>\n",
       "      <td>Subject-ID</td>\n",
       "    </tr>\n",
       "    <tr>\n",
       "      <th>Water</th>\n",
       "      <td>7</td>\n",
       "      <td>Run-ID</td>\n",
       "      <td>Subject-ID</td>\n",
       "    </tr>\n",
       "    <tr>\n",
       "      <th>human_1</th>\n",
       "      <td>28</td>\n",
       "      <td>Run-ID</td>\n",
       "      <td>Subject-ID</td>\n",
       "    </tr>\n",
       "    <tr>\n",
       "      <th rowspan=\"13\" valign=\"top\">Run2</th>\n",
       "      <th>D6300</th>\n",
       "      <td>8</td>\n",
       "      <td>Run-ID</td>\n",
       "      <td>Subject-ID</td>\n",
       "    </tr>\n",
       "    <tr>\n",
       "      <th>D6305</th>\n",
       "      <td>1</td>\n",
       "      <td>Run-ID</td>\n",
       "      <td>Subject-ID</td>\n",
       "    </tr>\n",
       "    <tr>\n",
       "      <th>D6306</th>\n",
       "      <td>1</td>\n",
       "      <td>Run-ID</td>\n",
       "      <td>Subject-ID</td>\n",
       "    </tr>\n",
       "    <tr>\n",
       "      <th>DZ35298</th>\n",
       "      <td>12</td>\n",
       "      <td>Run-ID</td>\n",
       "      <td>Subject-ID</td>\n",
       "    </tr>\n",
       "    <tr>\n",
       "      <th>DZ35322</th>\n",
       "      <td>4</td>\n",
       "      <td>Run-ID</td>\n",
       "      <td>Subject-ID</td>\n",
       "    </tr>\n",
       "    <tr>\n",
       "      <th>MSA1000</th>\n",
       "      <td>1</td>\n",
       "      <td>Run-ID</td>\n",
       "      <td>Subject-ID</td>\n",
       "    </tr>\n",
       "    <tr>\n",
       "      <th>MSA1001</th>\n",
       "      <td>1</td>\n",
       "      <td>Run-ID</td>\n",
       "      <td>Subject-ID</td>\n",
       "    </tr>\n",
       "    <tr>\n",
       "      <th>MSA1002</th>\n",
       "      <td>1</td>\n",
       "      <td>Run-ID</td>\n",
       "      <td>Subject-ID</td>\n",
       "    </tr>\n",
       "    <tr>\n",
       "      <th>MSA1003</th>\n",
       "      <td>1</td>\n",
       "      <td>Run-ID</td>\n",
       "      <td>Subject-ID</td>\n",
       "    </tr>\n",
       "    <tr>\n",
       "      <th>NTC_Blank</th>\n",
       "      <td>1</td>\n",
       "      <td>Run-ID</td>\n",
       "      <td>Subject-ID</td>\n",
       "    </tr>\n",
       "    <tr>\n",
       "      <th>PCR_Blank</th>\n",
       "      <td>1</td>\n",
       "      <td>Run-ID</td>\n",
       "      <td>Subject-ID</td>\n",
       "    </tr>\n",
       "    <tr>\n",
       "      <th>Water</th>\n",
       "      <td>8</td>\n",
       "      <td>Run-ID</td>\n",
       "      <td>Subject-ID</td>\n",
       "    </tr>\n",
       "    <tr>\n",
       "      <th>human_1</th>\n",
       "      <td>39</td>\n",
       "      <td>Run-ID</td>\n",
       "      <td>Subject-ID</td>\n",
       "    </tr>\n",
       "    <tr>\n",
       "      <th rowspan=\"13\" valign=\"top\">Run3</th>\n",
       "      <th>D6300</th>\n",
       "      <td>14</td>\n",
       "      <td>Run-ID</td>\n",
       "      <td>Subject-ID</td>\n",
       "    </tr>\n",
       "    <tr>\n",
       "      <th>D6305</th>\n",
       "      <td>1</td>\n",
       "      <td>Run-ID</td>\n",
       "      <td>Subject-ID</td>\n",
       "    </tr>\n",
       "    <tr>\n",
       "      <th>D6306</th>\n",
       "      <td>1</td>\n",
       "      <td>Run-ID</td>\n",
       "      <td>Subject-ID</td>\n",
       "    </tr>\n",
       "    <tr>\n",
       "      <th>DZ35298</th>\n",
       "      <td>16</td>\n",
       "      <td>Run-ID</td>\n",
       "      <td>Subject-ID</td>\n",
       "    </tr>\n",
       "    <tr>\n",
       "      <th>DZ35322</th>\n",
       "      <td>5</td>\n",
       "      <td>Run-ID</td>\n",
       "      <td>Subject-ID</td>\n",
       "    </tr>\n",
       "    <tr>\n",
       "      <th>MSA1000</th>\n",
       "      <td>1</td>\n",
       "      <td>Run-ID</td>\n",
       "      <td>Subject-ID</td>\n",
       "    </tr>\n",
       "    <tr>\n",
       "      <th>MSA1001</th>\n",
       "      <td>1</td>\n",
       "      <td>Run-ID</td>\n",
       "      <td>Subject-ID</td>\n",
       "    </tr>\n",
       "    <tr>\n",
       "      <th>MSA1002</th>\n",
       "      <td>1</td>\n",
       "      <td>Run-ID</td>\n",
       "      <td>Subject-ID</td>\n",
       "    </tr>\n",
       "    <tr>\n",
       "      <th>MSA1003</th>\n",
       "      <td>1</td>\n",
       "      <td>Run-ID</td>\n",
       "      <td>Subject-ID</td>\n",
       "    </tr>\n",
       "    <tr>\n",
       "      <th>NTC_Blank</th>\n",
       "      <td>1</td>\n",
       "      <td>Run-ID</td>\n",
       "      <td>Subject-ID</td>\n",
       "    </tr>\n",
       "    <tr>\n",
       "      <th>PCR_Blank</th>\n",
       "      <td>1</td>\n",
       "      <td>Run-ID</td>\n",
       "      <td>Subject-ID</td>\n",
       "    </tr>\n",
       "    <tr>\n",
       "      <th>Water</th>\n",
       "      <td>7</td>\n",
       "      <td>Run-ID</td>\n",
       "      <td>Subject-ID</td>\n",
       "    </tr>\n",
       "    <tr>\n",
       "      <th>human_1</th>\n",
       "      <td>24</td>\n",
       "      <td>Run-ID</td>\n",
       "      <td>Subject-ID</td>\n",
       "    </tr>\n",
       "    <tr>\n",
       "      <th rowspan=\"16\" valign=\"top\">Run4</th>\n",
       "      <th>D6300</th>\n",
       "      <td>21</td>\n",
       "      <td>Run-ID</td>\n",
       "      <td>Subject-ID</td>\n",
       "    </tr>\n",
       "    <tr>\n",
       "      <th>D6305</th>\n",
       "      <td>2</td>\n",
       "      <td>Run-ID</td>\n",
       "      <td>Subject-ID</td>\n",
       "    </tr>\n",
       "    <tr>\n",
       "      <th>D6306</th>\n",
       "      <td>2</td>\n",
       "      <td>Run-ID</td>\n",
       "      <td>Subject-ID</td>\n",
       "    </tr>\n",
       "    <tr>\n",
       "      <th>D6310</th>\n",
       "      <td>22</td>\n",
       "      <td>Run-ID</td>\n",
       "      <td>Subject-ID</td>\n",
       "    </tr>\n",
       "    <tr>\n",
       "      <th>D6311</th>\n",
       "      <td>2</td>\n",
       "      <td>Run-ID</td>\n",
       "      <td>Subject-ID</td>\n",
       "    </tr>\n",
       "    <tr>\n",
       "      <th>DZ35298</th>\n",
       "      <td>7</td>\n",
       "      <td>Run-ID</td>\n",
       "      <td>Subject-ID</td>\n",
       "    </tr>\n",
       "    <tr>\n",
       "      <th>DZ35316</th>\n",
       "      <td>5</td>\n",
       "      <td>Run-ID</td>\n",
       "      <td>Subject-ID</td>\n",
       "    </tr>\n",
       "    <tr>\n",
       "      <th>DZ35322</th>\n",
       "      <td>2</td>\n",
       "      <td>Run-ID</td>\n",
       "      <td>Subject-ID</td>\n",
       "    </tr>\n",
       "    <tr>\n",
       "      <th>MSA1000</th>\n",
       "      <td>2</td>\n",
       "      <td>Run-ID</td>\n",
       "      <td>Subject-ID</td>\n",
       "    </tr>\n",
       "    <tr>\n",
       "      <th>MSA1001</th>\n",
       "      <td>2</td>\n",
       "      <td>Run-ID</td>\n",
       "      <td>Subject-ID</td>\n",
       "    </tr>\n",
       "    <tr>\n",
       "      <th>MSA1002</th>\n",
       "      <td>2</td>\n",
       "      <td>Run-ID</td>\n",
       "      <td>Subject-ID</td>\n",
       "    </tr>\n",
       "    <tr>\n",
       "      <th>MSA1003</th>\n",
       "      <td>2</td>\n",
       "      <td>Run-ID</td>\n",
       "      <td>Subject-ID</td>\n",
       "    </tr>\n",
       "    <tr>\n",
       "      <th>NTC_Blank</th>\n",
       "      <td>2</td>\n",
       "      <td>Run-ID</td>\n",
       "      <td>Subject-ID</td>\n",
       "    </tr>\n",
       "    <tr>\n",
       "      <th>PCR_Blank</th>\n",
       "      <td>2</td>\n",
       "      <td>Run-ID</td>\n",
       "      <td>Subject-ID</td>\n",
       "    </tr>\n",
       "    <tr>\n",
       "      <th>Water</th>\n",
       "      <td>36</td>\n",
       "      <td>Run-ID</td>\n",
       "      <td>Subject-ID</td>\n",
       "    </tr>\n",
       "    <tr>\n",
       "      <th>human_1</th>\n",
       "      <td>40</td>\n",
       "      <td>Run-ID</td>\n",
       "      <td>Subject-ID</td>\n",
       "    </tr>\n",
       "  </tbody>\n",
       "</table>\n",
       "</div>"
      ],
      "text/plain": [
       "                   Subject-ID       0           1\n",
       "Run-ID Subject-ID                                \n",
       "Run1   D6300               14  Run-ID  Subject-ID\n",
       "       D6305                1  Run-ID  Subject-ID\n",
       "       D6306                1  Run-ID  Subject-ID\n",
       "       DZ35298             14  Run-ID  Subject-ID\n",
       "       DZ35322             14  Run-ID  Subject-ID\n",
       "       MSA1000              1  Run-ID  Subject-ID\n",
       "       MSA1001              1  Run-ID  Subject-ID\n",
       "       MSA1002              1  Run-ID  Subject-ID\n",
       "       MSA1003              1  Run-ID  Subject-ID\n",
       "       NTC_Blank            1  Run-ID  Subject-ID\n",
       "       PCR_Blank            1  Run-ID  Subject-ID\n",
       "       Water                7  Run-ID  Subject-ID\n",
       "       human_1             28  Run-ID  Subject-ID\n",
       "Run2   D6300                8  Run-ID  Subject-ID\n",
       "       D6305                1  Run-ID  Subject-ID\n",
       "       D6306                1  Run-ID  Subject-ID\n",
       "       DZ35298             12  Run-ID  Subject-ID\n",
       "       DZ35322              4  Run-ID  Subject-ID\n",
       "       MSA1000              1  Run-ID  Subject-ID\n",
       "       MSA1001              1  Run-ID  Subject-ID\n",
       "       MSA1002              1  Run-ID  Subject-ID\n",
       "       MSA1003              1  Run-ID  Subject-ID\n",
       "       NTC_Blank            1  Run-ID  Subject-ID\n",
       "       PCR_Blank            1  Run-ID  Subject-ID\n",
       "       Water                8  Run-ID  Subject-ID\n",
       "       human_1             39  Run-ID  Subject-ID\n",
       "Run3   D6300               14  Run-ID  Subject-ID\n",
       "       D6305                1  Run-ID  Subject-ID\n",
       "       D6306                1  Run-ID  Subject-ID\n",
       "       DZ35298             16  Run-ID  Subject-ID\n",
       "       DZ35322              5  Run-ID  Subject-ID\n",
       "       MSA1000              1  Run-ID  Subject-ID\n",
       "       MSA1001              1  Run-ID  Subject-ID\n",
       "       MSA1002              1  Run-ID  Subject-ID\n",
       "       MSA1003              1  Run-ID  Subject-ID\n",
       "       NTC_Blank            1  Run-ID  Subject-ID\n",
       "       PCR_Blank            1  Run-ID  Subject-ID\n",
       "       Water                7  Run-ID  Subject-ID\n",
       "       human_1             24  Run-ID  Subject-ID\n",
       "Run4   D6300               21  Run-ID  Subject-ID\n",
       "       D6305                2  Run-ID  Subject-ID\n",
       "       D6306                2  Run-ID  Subject-ID\n",
       "       D6310               22  Run-ID  Subject-ID\n",
       "       D6311                2  Run-ID  Subject-ID\n",
       "       DZ35298              7  Run-ID  Subject-ID\n",
       "       DZ35316              5  Run-ID  Subject-ID\n",
       "       DZ35322              2  Run-ID  Subject-ID\n",
       "       MSA1000              2  Run-ID  Subject-ID\n",
       "       MSA1001              2  Run-ID  Subject-ID\n",
       "       MSA1002              2  Run-ID  Subject-ID\n",
       "       MSA1003              2  Run-ID  Subject-ID\n",
       "       NTC_Blank            2  Run-ID  Subject-ID\n",
       "       PCR_Blank            2  Run-ID  Subject-ID\n",
       "       Water               36  Run-ID  Subject-ID\n",
       "       human_1             40  Run-ID  Subject-ID"
      ]
     },
     "metadata": {},
     "output_type": "display_data"
    }
   ],
   "source": [
    "metacount_run_sub(m_nonbio)"
   ]
  },
  {
   "cell_type": "markdown",
   "metadata": {},
   "source": [
    "<h3 id=\"2.4&nbsp;&nbsp;Output-manifest\">2.4&nbsp;&nbsp;Output manifest</h3>\n",
    "\n",
    "Sample ID's need to be renamed to include \"-\", to match the FastQ folder paths. The cleaned manifest was saved used for sequencing."
   ]
  },
  {
   "cell_type": "code",
   "execution_count": 17,
   "metadata": {},
   "outputs": [
    {
     "name": "stdout",
     "output_type": "stream",
     "text": [
      "C:\\Users\\slsevilla\\Google Drive\\MyDocuments_Current\\Education\\George Mason University\\Dissertation\\Data\\Aim1\n"
     ]
    }
   ],
   "source": [
    "%cd {proj_dir}"
   ]
  },
  {
   "cell_type": "code",
   "execution_count": 18,
   "metadata": {},
   "outputs": [
    {
     "data": {
      "text/plain": [
       "(389, 14)"
      ]
     },
     "execution_count": 18,
     "metadata": {},
     "output_type": "execute_result"
    }
   ],
   "source": [
    "m_nonbio.reset_index(inplace = True)\n",
    "m_nonbio['Sample ID'].str.replace('_','-')\n",
    "\n",
    "m_nonbio.to_csv(r'manifest/m_rec.txt',header = m_nonbio.columns,index = False, sep='\\t')\n",
    "m_nonbio.to_csv(r'manifest/m_rec_rm.txt',header = m_nonbio.columns,index = False, sep='\\t')\n",
    "m_nonbio.set_index('Sample ID',inplace=True)\n",
    "\n",
    "m_save=m_nonbio.copy()\n",
    "m_save.shape"
   ]
  },
  {
   "cell_type": "markdown",
   "metadata": {},
   "source": [
    "<h2 id=\"3&nbsp;&nbsp;Sequencing-information\">3&nbsp;&nbsp;Sequencing information</h2>"
   ]
  },
  {
   "cell_type": "markdown",
   "metadata": {},
   "source": [
    "<h3 id=\"3.1&nbsp;&nbsp;Yaml-parameters\">3.1&nbsp;&nbsp;Yaml parameters</h3>\n",
    "\n",
    "All project samples were processed using the following parameters:"
   ]
  },
  {
   "cell_type": "code",
   "execution_count": null,
   "metadata": {},
   "outputs": [],
   "source": [
    "%cd manifest\n",
    "!cat *.yml"
   ]
  },
  {
   "cell_type": "markdown",
   "metadata": {},
   "source": [
    "<h3 id=\"3.2&nbsp;&nbsp;Pipeline-run\">3.2&nbsp;&nbsp;Pipeline run</h3>"
   ]
  },
  {
   "cell_type": "code",
   "execution_count": null,
   "metadata": {},
   "outputs": [],
   "source": [
    "#qlogin -q interactive.q\n",
    "#cd /DCEG/Projects/Microbiome/Analysis/NP0084_MB/20200410_2019.1\n",
    "#sh run_pipeline.sh"
   ]
  },
  {
   "cell_type": "markdown",
   "metadata": {},
   "source": [
    "<h2 id=\"4&nbsp;&nbsp;Quality-control\">4&nbsp;&nbsp;Quality control</h2>"
   ]
  },
  {
   "cell_type": "markdown",
   "metadata": {},
   "source": [
    "<h3 id=\"4.1&nbsp;&nbsp;Trimming\">4.1&nbsp;&nbsp;Trimming</h3>\n",
    "\n",
    "The trimming parameters for the initial pipeline run (`<datestamp>_initial_run`) are set to 0 (no trimming).  For subsequent runs, trimming parameters are set based on the read quality plots (not shown here; please browse `import_and_demultiplex/<runID>.qzv` using [QIIME's viewer](https://view.qiime2.org/) for quality plots).  For this run, trimming parameters (also found in the config) are as follows:"
   ]
  },
  {
   "cell_type": "code",
   "execution_count": null,
   "metadata": {},
   "outputs": [],
   "source": [
    "%cd {proj_dir}manifest\n",
    "!grep -A4 \"dada2_denoise\" *.yml"
   ]
  },
  {
   "cell_type": "markdown",
   "metadata": {},
   "source": [
    "After error correction, chimera removal, and removal of phiX sequences, the remaining reads are used for taxonomic classification.  We are performing classification with a naive Bayes classifier trained on the SILVA 99% OTUs database that includes only the V4 region (defined by the 515F/806R primer pair).  This data is located at `taxonomic_classification/barplots_classify-sklearn_silva-132-99-515-806-nb-classifier.qzv`.  Please use [QIIME's viewer](https://view.qiime2.org/) for a more detailed interactive plot."
   ]
  },
  {
   "cell_type": "markdown",
   "metadata": {},
   "source": [
    "<h3 id=\"4.2&nbsp;&nbsp;Sequence depth\">4.2&nbsp;&nbsp;Sequence depth</h3>\n",
    "Per-sample read depths are recorded in `import_and_demultiplex/<runID>.qzv`. Distributions per flow cell should be similar if the flow cells contained the same number of non-blank samples. If a flow cell contains fewer samples, each sample will have a greater number of reads, so that the total number of reads produced per flow cell remains approximately the same. The plots below show the \"level 1\" taxonomic classification, the kingdom level. Absolute abundance is displayed for all samples, as is the relative abundance."
   ]
  },
  {
   "cell_type": "code",
   "execution_count": null,
   "metadata": {},
   "outputs": [],
   "source": [
    "%%bash\n",
    "#for i in *qzv; do unzip -q $i -d \"rpt_${i%.*}\"; done\n",
    "#for i in rpt_*/*/data/metadata.tsv; do dos2unix -q $i; j=${i%%/*}; k=${j#\"rpt_\"}; awk -v var=\"$k\" 'BEGIN{FS=OFS=\"\\t\"}NR>2{print $0,var}' $i >> t; done\n",
    "#cat <(echo -e \"sample-id\\tinput\\tfiltered\\tdenoised\\tmerged\\tnon-chimeric\\tflow_cell\") t > rpt_denoising_stats.tsv\n",
    "#rm t"
   ]
  },
  {
   "cell_type": "code",
   "execution_count": null,
   "metadata": {
    "scrolled": true
   },
   "outputs": [],
   "source": [
    "#alternative way to look at the read counts - will be the same as the 'input' col above\n",
    "#%%bash\n",
    "#for i in *qzv; do unzip -q $i -d \"rpt_${i%.*}\"; done\n",
    "#for i in rpt_*/*/data/per-sample-fastq-counts.csv; do j=${i%%/*}; k=${j#\"rpt_\"}; awk -v var=\"$k\" 'BEGIN{FS=\",\";OFS=\"\\t\"}$1!~/Sample name/{print $1,$2,var}' $i >> t; done\n",
    "#cat <(echo -e \"Sample_name\\tSequence_count\\tRun_ID\") t > rpt_vertical_per-sample-fastq-counts.csv\n",
    "#rm t"
   ]
  },
  {
   "cell_type": "code",
   "execution_count": null,
   "metadata": {
    "scrolled": true
   },
   "outputs": [],
   "source": [
    "#alternative way to look at the read counts - will be the same as the 'input' col above\n",
    "#df_depth = pd.read_csv('output/import_and_demultiplex/rpt_vertical_per-sample-fastq-counts.csv',sep='\\t')\n",
    "#df_depth.set_index('Sample_name',inplace=True)\n",
    "#samp_list = m_save.index\n",
    "\n",
    "#df_depth_clean=df_depth[df_depth.index.isin(samp_list)==True]\n",
    "#m_save['OTU-count']=df_depth_clean['Sequence_count']\n",
    "#m_save.head()"
   ]
  },
  {
   "cell_type": "code",
   "execution_count": null,
   "metadata": {},
   "outputs": [],
   "source": [
    "%cd {proj_dir}"
   ]
  },
  {
   "cell_type": "code",
   "execution_count": null,
   "metadata": {},
   "outputs": [],
   "source": [
    "#Read in the denoising stats from QIIME2 output\n",
    "df_stats = pd.read_csv('output/denoising/stats/rpt_denoising_stats.tsv',sep='\\t')\n",
    "df_stats = df_stats.set_index('sample-id')\n",
    "\n",
    "df_reads = pd.concat([m_save,df_stats],axis=1)\n",
    "df_reads.drop(columns='flow_cell',inplace=True) #duplicate column\n",
    "df_reads = df_reads[df_reads.index.isin(m_save.index)] #only include samples filt above"
   ]
  },
  {
   "cell_type": "code",
   "execution_count": null,
   "metadata": {},
   "outputs": [],
   "source": [
    "def plot_depth(df,label,y_title,file_save):\n",
    "    plt.figure(dpi=200)\n",
    "    ax = df.sort_values(0).plot.bar(stacked=True, figsize=(70,7), width=1, edgecolor='white', ax=plt.gca())\n",
    "    ax.legend(loc='upper center', bbox_to_anchor=(0.5, -0.5),ncol=4,fontsize=52)\n",
    "    ax.set_ylabel(y_title,fontsize=52)\n",
    "    ax.axes.get_xaxis().set_ticks([])\n",
    "    ax.set_title('Sequencing Depth - '+label,fontsize=52)\n",
    "    ax.set_yticklabels(ax.get_yticks(), size = 40)\n",
    "    plt.savefig(file_save+'.png',bbox_inches=\"tight\")  \n",
    "    plt.show()    "
   ]
  },
  {
   "cell_type": "code",
   "execution_count": null,
   "metadata": {
    "scrolled": false
   },
   "outputs": [],
   "source": [
    "plot_depth(df_reads['input'],\"All Samples\",\"Number of reads\",\"output/img/num_reads_all\")"
   ]
  },
  {
   "cell_type": "code",
   "execution_count": null,
   "metadata": {},
   "outputs": [],
   "source": [
    "read_stat=[df_reads['input'].mean(),df_reads['input'].min(),df_reads['input'].max()]\n",
    "read_stat"
   ]
  },
  {
   "cell_type": "code",
   "execution_count": null,
   "metadata": {},
   "outputs": [],
   "source": [
    "col_add = ['input','filtered','denoised','merged','non-chimeric']\n",
    "for i in col_add:\n",
    "    m_save[i] = df_reads[i]"
   ]
  },
  {
   "cell_type": "code",
   "execution_count": null,
   "metadata": {},
   "outputs": [],
   "source": [
    "m_save.shape"
   ]
  },
  {
   "cell_type": "markdown",
   "metadata": {},
   "source": [
    "<h3 id=\"4.3&nbsp;&nbsp;QIIME-filtering\">4.3&nbsp;&nbsp;QIIME filtering</h3>\n",
    "\n",
    "Per-sample read depths at each filtering step are recorded in `denoising/stats/<runID>.qzv`.  The plots below show the mean for each category; error bars indicate the 95% confidence interval.  \n",
    "\n",
    "These filtering steps include:\n",
    "\n",
    "- filter: sequences are filtered based on Q score (default is 4)\n",
    "- denoise: \n",
    "- unpaired: paired-end sequences that are unable to be merged, either because the sequences are too short and do not overlap, or because the ends do not align;\n",
    "- non-chimeric: sequences that are chimeric are fitered;\n",
    "\n",
    "Blanks (ext_blanks, seq_blanks) should have signficantly lower reads than artifical colonies (art_col, Zymobiomics, MSA), which would both have lower reads than study samples (human_1, biocollective, robogut). Additionally, blanks were sub-divided further, as NTC blanks are expected to have near-zero read depths, and represent false positives introduced by sequencing reagents.\n",
    "PCR blanks and Extraction blanks are expected to have read depths that are at least one to two orders of magnitude lower than the average study sample depth.  They represent the relatively low level of taxa that may be detected in the water, or other reagents used in the lab."
   ]
  },
  {
   "cell_type": "code",
   "execution_count": null,
   "metadata": {},
   "outputs": [],
   "source": [
    "#determine which samples have 0 reads at start\n",
    "if(len(m_save[m_save['input']==0])!=0):\n",
    "    metacount_all(m_save[m_save['input']==0])\n",
    "else:\n",
    "    print(\"No samples meet metric\")"
   ]
  },
  {
   "cell_type": "code",
   "execution_count": null,
   "metadata": {
    "scrolled": true
   },
   "outputs": [],
   "source": [
    "#determine which samples have 0 reads after filtering\n",
    "if(len(m_save[m_save['filtered']==0])!=0):\n",
    "    metacount_all(m_save[m_save['filtered']==0])\n",
    "else:\n",
    "    print(\"No samples meet metric\")"
   ]
  },
  {
   "cell_type": "code",
   "execution_count": null,
   "metadata": {},
   "outputs": [],
   "source": [
    "#determine which samples have 0 reads after denoising\n",
    "rm = m_save[(m_save['denoised']==0) & (m_save['filtered']!=0)]\n",
    "if(len(rm)):\n",
    "    metacount_all(rm)\n",
    "else:\n",
    "    print(\"No samples meet metric\")"
   ]
  },
  {
   "cell_type": "code",
   "execution_count": null,
   "metadata": {},
   "outputs": [],
   "source": [
    "#determine which samples have 0 reads after unpaired\n",
    "rm = m_save[(m_save['merged']==0) &(m_save['denoised']!=0) & (m_save['filtered']!=0)]\n",
    "\n",
    "if(len(rm)):\n",
    "    metacount_all(rm)\n",
    "    display(rm.shape)\n",
    "else:\n",
    "    print(\"No samples meet metric\")"
   ]
  },
  {
   "cell_type": "code",
   "execution_count": null,
   "metadata": {},
   "outputs": [],
   "source": [
    "#determine which samples have 0 reads after chimeria\n",
    "rm = m_save[(m_save['non-chimeric']==0) & (m_save['merged']!=0) &(m_save['denoised']!=0) & (m_save['filtered']!=0)]\n",
    "if(len(rm)):\n",
    "    metacount_all(rm)\n",
    "    display(rm.shape)\n",
    "else:\n",
    "    print(\"No samples meet metric\")"
   ]
  },
  {
   "cell_type": "code",
   "execution_count": null,
   "metadata": {},
   "outputs": [],
   "source": [
    "#remove all samples from df\n",
    "df_reads_clean = m_save[m_save['non-chimeric']!=0]\n",
    "df_reads_clean.shape"
   ]
  },
  {
   "cell_type": "code",
   "execution_count": null,
   "metadata": {},
   "outputs": [],
   "source": [
    "m_save = df_reads_clean.copy()"
   ]
  },
  {
   "cell_type": "code",
   "execution_count": null,
   "metadata": {},
   "outputs": [],
   "source": [
    "metacount_all(m_save)"
   ]
  },
  {
   "cell_type": "markdown",
   "metadata": {},
   "source": [
    "<h4 id=\"4.3.2&nbsp;&nbsp;Non-bacterial Reads\">4.3.2&nbsp;&nbsp;Non-bacterial Reads</h4>\n",
    "Reads are being classified using a database of predominantly bacterial sequences, so human reads, for example, will generally be in the \"Unclassified\" category rather than \"Eukaryota.\"  Non-bacterial reads can indicate host (human) or other contamination. This can be helpful with troubleshooting if some samples unexpectedly have a high proportion of non-bacterial OTU's. Samples with > 10% non-bacterial OTU's were filtered."
   ]
  },
  {
   "cell_type": "code",
   "execution_count": null,
   "metadata": {},
   "outputs": [],
   "source": [
    "%cd {proj_dir}\n",
    "#!unzip -q -d rpt_silva 'barplots_classify-sklearn_silva-132-99-nb-classifier.qzv'"
   ]
  },
  {
   "cell_type": "code",
   "execution_count": null,
   "metadata": {},
   "outputs": [],
   "source": [
    "def read_in_tax(level):\n",
    "    f = glob.glob('output/taxonomic_classification/rpt_silva/*/data/level-'+level+'.csv')\n",
    "    df = pd.read_csv(f[0])\n",
    "    df = df.rename(columns = {'index':'Sample'})\n",
    "    df = df.set_index('Sample')  \n",
    "    return df"
   ]
  },
  {
   "cell_type": "code",
   "execution_count": null,
   "metadata": {},
   "outputs": [],
   "source": [
    "def plot_abund(df,label,y_title,file_save):\n",
    "    plt.figure(dpi=200)\n",
    "    pal = sns.color_palette(\"Accent\")\n",
    "    ax = df.sort_values('D_0__Bacteria').plot.bar(stacked=True, color=pal, figsize=(70,7), width=1, edgecolor='white', ax=plt.gca())\n",
    "    ax.legend(loc='upper center', bbox_to_anchor=(0.5, -0.5),ncol=4,fontsize=52)\n",
    "    ax.set_ylabel(y_title,fontsize=52)\n",
    "    ax.axes.get_xaxis().set_ticks([])\n",
    "    ax.set_title('Taxonomic classification - '+label,fontsize=52)\n",
    "    ax.set_yticklabels(ax.get_yticks(), size = 40)\n",
    "    plt.savefig(file_save+'.png',bbox_inches=\"tight\")  \n",
    "    plt.show()    "
   ]
  },
  {
   "cell_type": "code",
   "execution_count": null,
   "metadata": {
    "scrolled": false
   },
   "outputs": [],
   "source": [
    "df_l1 = read_in_tax(\"1\") #Read in taxonomy at kingdom"
   ]
  },
  {
   "cell_type": "code",
   "execution_count": null,
   "metadata": {},
   "outputs": [],
   "source": [
    "#subset df to current samp list\n",
    "samp_list = m_save.index\n",
    "df_l1_clean = df_l1[~df_l1.index.isin(samp_list)==False]\n",
    "df_l1_clean.shape"
   ]
  },
  {
   "cell_type": "code",
   "execution_count": null,
   "metadata": {
    "scrolled": true
   },
   "outputs": [],
   "source": [
    "df_l1_abund = df_l1_clean.select_dtypes(['number']).dropna(axis=1, how='all')  \n",
    "plot_abund(df_l1_abund,'All Samples','Num of OTUs','output/img/abs_l1_all')\n",
    "\n",
    "df_l1_rel = df_l1_abund.div(df_l1_abund.sum(axis=1), axis=0) * 100 #axis=1 is along row\n",
    "plot_abund(df_l1_rel,'All Samples','Relative frequency (%)','output/img/rel_l1_all')"
   ]
  },
  {
   "cell_type": "code",
   "execution_count": null,
   "metadata": {},
   "outputs": [],
   "source": [
    "df_l1_rel.sort_values('D_0__Bacteria').head(20)"
   ]
  },
  {
   "cell_type": "code",
   "execution_count": null,
   "metadata": {},
   "outputs": [],
   "source": [
    "df_l1_rel[df_l1_rel['D_0__Bacteria']>99].count()"
   ]
  },
  {
   "cell_type": "code",
   "execution_count": null,
   "metadata": {},
   "outputs": [],
   "source": [
    "#remove samps with <99% bact\n",
    "df_l1_rel_clean = df_l1_rel[df_l1_rel.index.isin(m_save.index)]\n",
    "if len(df_l1_rel_clean[(df_l1_rel_clean['D_0__Bacteria'] <99)]>0):\n",
    "    df_l1_drop_list = df_l1_rel_clean[(df_l1_rel['D_0__Bacteria'] <99)].index\n",
    "    m_bac90_rm = m_save[~m_save.index.isin(df_l1_drop_list) == False]\n",
    "    m_bac90_rm.to_csv(r'manifest/m_90bact_rm.txt',header = m_bac90_rm.columns,index = False, sep='\\t')\n",
    "    \n",
    "    m_bac90 = m_save[m_save.index.isin(df_l1_drop_list) == False]\n",
    "    m_bac90.to_csv(r'manifest/m_90bact.txt',header = m_bac90.columns,index = True, sep='\\t')\n",
    "    display(df_l1_rel_clean[(df_l1_rel_clean['D_0__Bacteria'] <99)])\n",
    "else:\n",
    "    print (\"all are above 90\")\n",
    "    display(df_l1_rel_clean.sort_values(by=['Unassigned']).tail())"
   ]
  },
  {
   "cell_type": "code",
   "execution_count": null,
   "metadata": {},
   "outputs": [],
   "source": [
    "metacount_all(m_bac90_rm)"
   ]
  },
  {
   "cell_type": "code",
   "execution_count": null,
   "metadata": {},
   "outputs": [],
   "source": [
    "m_bac90.shape"
   ]
  },
  {
   "cell_type": "code",
   "execution_count": null,
   "metadata": {
    "scrolled": true
   },
   "outputs": [],
   "source": [
    "m_save = m_bac90.copy()\n",
    "m_save.shape"
   ]
  },
  {
   "cell_type": "code",
   "execution_count": null,
   "metadata": {
    "scrolled": true
   },
   "outputs": [],
   "source": [
    "m_save.head()"
   ]
  },
  {
   "cell_type": "code",
   "execution_count": null,
   "metadata": {},
   "outputs": [],
   "source": [
    "king_list = ['D_0__Archaea','D_0__Bacteria','D_0__Eukaryota','Unassigned']\n",
    "for i in king_list:\n",
    "    m_save[i] = df_l1[i]\n"
   ]
  },
  {
   "cell_type": "markdown",
   "metadata": {},
   "source": [
    "<h4 id=\"4.3.3&nbsp;&nbsp;By flowcell\">4.3.3&nbsp;&nbsp;By flowcell</h4>"
   ]
  },
  {
   "cell_type": "code",
   "execution_count": null,
   "metadata": {
    "scrolled": true
   },
   "outputs": [],
   "source": [
    "#Plot fig with all samples\n",
    "def plot_depth(df_in):\n",
    "    plt.figure(dpi=100)\n",
    "    sns.set(style=\"whitegrid\")\n",
    "    ax = sns.boxplot(x=\"Run-ID\",y=\"input\",data=df_in)\n",
    "    ax.set_xlabel('Flowcell ID')\n",
    "    ax.set_xticklabels(ax.get_xticklabels(),rotation=40,ha=\"right\")#,fontsize=8)\n",
    "    ax.axes.set_title(\"Sequencing depth distribution per flow cell - All samples\",fontsize=12)\n",
    "    plt.savefig('output/img/seq_depth_uneven.png',bbox_inches=\"tight\")  \n",
    "    plt.show()"
   ]
  },
  {
   "cell_type": "code",
   "execution_count": null,
   "metadata": {
    "scrolled": true
   },
   "outputs": [],
   "source": [
    "plot_depth(m_save)"
   ]
  },
  {
   "cell_type": "code",
   "execution_count": null,
   "metadata": {
    "scrolled": true
   },
   "outputs": [],
   "source": [
    "metacount_run_sub(m_save) #Check if blanks are even amongst all samples"
   ]
  },
  {
   "cell_type": "code",
   "execution_count": null,
   "metadata": {},
   "outputs": [],
   "source": [
    "#Remove blanks, re-run and see if there is sig\n",
    "search_values = ['Ext_Control','Seq_Control']\n",
    "df_blanks = m_save[m_save['Sample-Type'].str.contains('|'.join(search_values ))]\n",
    "drop_list = df_blanks.index\n",
    "\n",
    "df_depth_no_blanks = m_save[~m_save.index.isin(drop_list) == False]\n",
    "plot_depth(df_depth_no_blanks)"
   ]
  },
  {
   "cell_type": "markdown",
   "metadata": {},
   "source": [
    "<h4 id=\"4.3.3&nbsp;&nbsp;By sample type\">4.3.3&nbsp;&nbsp;By sample type</h4>"
   ]
  },
  {
   "cell_type": "code",
   "execution_count": null,
   "metadata": {
    "scrolled": true
   },
   "outputs": [],
   "source": [
    "col_list = ['D_0__Archaea','D_0__Bacteria','D_0__Eukaryota','Unassigned']\n",
    "\n",
    "for i in m_save['Sample-Type'].unique():\n",
    "    drop_list = m_save[m_save['Sample-Type']==i].index\n",
    "    df = df_l1[df_l1.index.isin(drop_list)==True]\n",
    "    df = df[col_list].dropna(axis=1, how='all')  \n",
    "    plot_abund(df,i,'Number of OTUs','output/img/abs_l1_'+i)\n",
    "    df2 = df.div(df.sum(axis=1), axis=0) * 100 #axis=1 is along row\n",
    "    plot_abund(df2,i,'Relative frequency (%)','output/img/rel_l1_'+i)"
   ]
  },
  {
   "cell_type": "markdown",
   "metadata": {},
   "source": [
    "<h3 id=\"4.4&nbsp;&nbsp;Statistical differences\">4.4&nbsp;&nbsp;Statistical differences</h3>\n",
    "\n",
    "The Mann-Whitney U Test is a null hypothesis test, used to detect differences between two independent data sets. The test is specifically for non-parametric distributions, which do not assume a specific distribution for a set of data. Because of this, the Mann-Whitney U Test can be applied to any distribution, whether it is Gaussian or not.\n",
    "\n",
    "Specifically, the null hypothesis of the Mann-Whitney U Test states that the distributions of two data sets are identical. If the null hypothesis is correct, there is a 50 percent chance that an arbitrarily selected value in one distribution is greater than another arbitrarily selected value in the second distribution (2).\n",
    "\n",
    "The first output, the u-statistic, is defined in the previous section as the test statistic U for the Mann-Whitney U Test. The U-statistic is interpreted using a two-tailed test table, where the table contains critical values of U. To reject the null hypothesis at α=0.05, the U obtained from the test must be below the critical value of U found in the test table."
   ]
  },
  {
   "cell_type": "code",
   "execution_count": null,
   "metadata": {},
   "outputs": [],
   "source": [
    "def mann_whitney_u_test(des1, des2, distribution_1, distribution_2):\n",
    "    u_statistic, p_value = stats.mannwhitneyu(distribution_1, distribution_2, alternative='two-sided')\n",
    "    pair = des1 + \" vs \" + des2\n",
    "    return pair, u_statistic, p_value"
   ]
  },
  {
   "cell_type": "code",
   "execution_count": null,
   "metadata": {},
   "outputs": [],
   "source": [
    "def mann_whitt_sig(df_in,level,y_in):\n",
    "    des_list = list(df_in[level].unique()) #create list of unique elements\n",
    "    pair_list = list(combinations(des_list,2)) #create pair list for len of element list\n",
    "    \n",
    "    tmp = []\n",
    "    for i in range(0,len(pair_list)): \n",
    "        des1 = pair_list[i][0]\n",
    "        des2 = pair_list[i][1]\n",
    "        tmp.append(mann_whitney_u_test(des1, des2, list(df_in[(df_in[level] == des1)][y_in]), list(df_in[(df_in[level] == des2)][y_in])))\n",
    "    \n",
    "    df = pd.DataFrame(tmp)\n",
    "    df['sig'] = \"nonsig\"\n",
    "    \n",
    "    for i in df.index:\n",
    "        if df.iloc[i][2] < 0.0001:\n",
    "            df.at[i,'sig']= 'sig'\n",
    "    df.columns = [\"pair\",\"u_stat\",\"p_values\",\"sig_.0001\"]\n",
    "    return df"
   ]
  },
  {
   "cell_type": "markdown",
   "metadata": {},
   "source": [
    "<h4 id=\"4.4.1&nbsp;&nbsp;By sequence reads\">4.4.1&nbsp;&nbsp;By sequence reads</h4>"
   ]
  },
  {
   "cell_type": "code",
   "execution_count": null,
   "metadata": {
    "scrolled": true
   },
   "outputs": [],
   "source": [
    "df_mannwhit_stat = mann_whitt_sig(df_depth_no_blanks,'Run-ID','input')\n",
    "print(df_mannwhit_stat)"
   ]
  },
  {
   "cell_type": "code",
   "execution_count": null,
   "metadata": {},
   "outputs": [],
   "source": [
    "def mann_whitt_plot_sig(df_in,x_filt_in,y_filt_in,order_in,pairs_in,filename):\n",
    "    sns.set(style=\"whitegrid\")\n",
    "    df = sns.load_dataset(\"tips\")\n",
    "\n",
    "    x = x_filt_in\n",
    "    y = y_filt_in\n",
    "    order = order_in\n",
    "    ax = sns.boxplot(data=df_in, x=x, y=y, order=order)\n",
    "    add_stat_annotation(ax, data=df_in, x=x, y=y, order=order,\n",
    "                        box_pairs=pairs_in,\n",
    "                        test='Mann-Whitney', text_format='star', loc='outside', verbose=2)\n",
    "    plt.savefig('output/img/'+filename+'.png', dpi=300, bbox_inches='tight')"
   ]
  },
  {
   "cell_type": "code",
   "execution_count": null,
   "metadata": {
    "scrolled": true
   },
   "outputs": [],
   "source": [
    "#Plot study samples for sig\n",
    "list_order = list(df_depth_no_blanks[\"Run-ID\"].unique()) #create list of unique elements\n",
    "list_pairs = list(combinations(list_order,2)) #create pair list for len of element list\n",
    "\n",
    "x_filt = \"Run-ID\"\n",
    "y_filt = \"input\"\n",
    "mann_whitt_plot_sig(df_depth_no_blanks,x_filt,y_filt,list_order,list_pairs,'mannwhitt_seqcount_study')"
   ]
  },
  {
   "cell_type": "markdown",
   "metadata": {},
   "source": [
    "<h4 id=\"4.4.2&nbsp;&nbsp;By qiime2 filtering\">4.4.1&nbsp;&nbsp;By qiime2 filtering</h4>"
   ]
  },
  {
   "cell_type": "code",
   "execution_count": null,
   "metadata": {},
   "outputs": [],
   "source": [
    "#Plots read counts for each level of filtering phases\n",
    "def plot_read_counts(samples,pop):\n",
    "    plt.figure(dpi=100)\n",
    "    sns.set(style=\"whitegrid\")\n",
    "    ax = sns.barplot(data=df_stats[df_stats.index.isin(samples)]).set_title('Number of reads in ' + pop + ' samples')\n",
    "    plt.savefig('output/img/filt_values_'+pop+'.png',bbox_inches=\"tight\")  \n",
    "    plt.show()"
   ]
  },
  {
   "cell_type": "code",
   "execution_count": null,
   "metadata": {},
   "outputs": [],
   "source": [
    "#subsets df by filter and calls plot_read_counts\n",
    "def subplot_read_counts(df_in,sub_in):\n",
    "    for i in df_in[sub_in].unique():\n",
    "        l = list(df_in[df_in[sub_in].str.match(i)].index)\n",
    "        plot_read_counts(l,i)"
   ]
  },
  {
   "cell_type": "code",
   "execution_count": null,
   "metadata": {
    "scrolled": true
   },
   "outputs": [],
   "source": [
    "subplot_read_counts(m_save,'Sample-Type')\n",
    "subplot_read_counts(m_save,'Sample-Des')"
   ]
  },
  {
   "cell_type": "code",
   "execution_count": null,
   "metadata": {
    "scrolled": true
   },
   "outputs": [],
   "source": [
    "#Create a fraction of filtered reads col\n",
    "m_save['frac_filtered'] = ((m_save['input'] - m_save['non-chimeric']) / m_save['input'])*100"
   ]
  },
  {
   "cell_type": "code",
   "execution_count": null,
   "metadata": {},
   "outputs": [],
   "source": [
    "#Remove blanks and see if there is sig in study samples\n",
    "search_values = ['Ext_Control','Seq_Control']\n",
    "df_blanks = m_save[m_save['Sample-Type'].str.contains('|'.join(search_values ))]\n",
    "drop_list = df_blanks.index\n",
    "\n",
    "df_no_blanks = m_save[~m_save.index.isin(drop_list) == False]"
   ]
  },
  {
   "cell_type": "code",
   "execution_count": null,
   "metadata": {},
   "outputs": [],
   "source": [
    "#Plot study samples for sig\n",
    "list_order = list(df_depth_no_blanks[\"Run-ID\"].unique()) #create list of unique elements\n",
    "list_pairs = list(combinations(list_order,2)) #create pair list for len of element list\n",
    "\n",
    "x_filt = \"Run-ID\"\n",
    "y_filt = \"frac_filtered\"\n",
    "mann_whitt_plot_sig(df_no_blanks,x_filt,y_filt,list_order,list_pairs,'mannwhitt_fracfilt_study')"
   ]
  },
  {
   "cell_type": "code",
   "execution_count": null,
   "metadata": {},
   "outputs": [],
   "source": [
    "#Remove study samples and see if there is sig in controls\n",
    "search_values = ['Ext_Control','Seq_Control']\n",
    "df_controls = m_save[~m_save['Sample-Type'].str.contains('|'.join(search_values ))]\n",
    "drop_list = df_controls.index\n",
    "\n",
    "df_no_study = m_save[~m_save.index.isin(drop_list) == True]"
   ]
  },
  {
   "cell_type": "code",
   "execution_count": null,
   "metadata": {},
   "outputs": [],
   "source": [
    "#Plot study samples for sig\n",
    "list_order = list(df_depth_no_blanks[\"Run-ID\"].unique()) #create list of unique elements\n",
    "list_pairs = list(combinations(list_order,2)) #create pair list for len of element list\n",
    "\n",
    "x_filt = \"Run-ID\"\n",
    "y_filt = \"frac_filtered\"\n",
    "mann_whitt_plot_sig(df_no_study,x_filt,y_filt,list_order,list_pairs,'mannwhitt_fracfilt_controls_run')"
   ]
  },
  {
   "cell_type": "code",
   "execution_count": null,
   "metadata": {
    "scrolled": true
   },
   "outputs": [],
   "source": [
    "#Plot study samples for sig\n",
    "list_order = list(df_depth_no_blanks[\"Sample-Type\"].unique()) #create list of unique elements\n",
    "list_pairs = list(combinations(list_order,2)) #create pair list for len of element list\n",
    "\n",
    "x_filt = \"Sample-Type\"\n",
    "y_filt = \"frac_filtered\"\n",
    "mann_whitt_plot_sig(df_no_study,x_filt,y_filt,list_order,list_pairs,'mannwhitt_fracfilt_controls_st')"
   ]
  },
  {
   "cell_type": "code",
   "execution_count": null,
   "metadata": {},
   "outputs": [],
   "source": [
    "#plot clean data\n",
    "col_list = ['D_0__Archaea','D_0__Bacteria','D_0__Eukaryota','Unassigned']\n",
    "\n",
    "df_l1_abund = m_save[col_list].dropna(axis=1, how='all')  \n",
    "plot_abund(df_l1_abund,'All Samples','Num of OTUs','output/img/abs_l1_clean')\n",
    "\n",
    "df_l1_rel = df_l1_abund.div(df_l1_abund.sum(axis=1), axis=0) * 100 #axis=1 is along row\n",
    "plot_abund(df_l1_rel,'All Samples','Relative frequency (%)','output/img/rel_l1_clean')"
   ]
  },
  {
   "cell_type": "code",
   "execution_count": null,
   "metadata": {},
   "outputs": [],
   "source": [
    "m_save.to_csv(r'manifest/m_cleaned.txt',header = m_save.columns,index = True, sep='\\t')"
   ]
  },
  {
   "cell_type": "markdown",
   "metadata": {},
   "source": [
    "Taxonomy"
   ]
  },
  {
   "cell_type": "code",
   "execution_count": null,
   "metadata": {},
   "outputs": [],
   "source": [
    "tax_complete = pd.read_csv(proj_dir+'taxonomy/Taxonomy_Complete.csv')"
   ]
  },
  {
   "cell_type": "code",
   "execution_count": null,
   "metadata": {},
   "outputs": [],
   "source": [
    "tax_complete"
   ]
  },
  {
   "cell_type": "code",
   "execution_count": null,
   "metadata": {
    "scrolled": true
   },
   "outputs": [],
   "source": [
    "tax = tax_complete.groupby('Genus').sum()\n",
    "tax_genus = pd.DataFrame(tax)\n",
    "pd.options.display.float_format = '{:.2E}'.format\n",
    "tax_genus"
   ]
  },
  {
   "cell_type": "code",
   "execution_count": null,
   "metadata": {},
   "outputs": [],
   "source": [
    "tax_genus.to_csv(r'taxonomy/tax_genus.txt',header = tax_genus.columns,index = True, sep='\\t')"
   ]
  },
  {
   "cell_type": "code",
   "execution_count": null,
   "metadata": {},
   "outputs": [],
   "source": []
  }
 ],
 "metadata": {
  "kernelspec": {
   "display_name": "Python 3",
   "language": "python",
   "name": "python3"
  },
  "language_info": {
   "codemirror_mode": {
    "name": "ipython",
    "version": 3
   },
   "file_extension": ".py",
   "mimetype": "text/x-python",
   "name": "python",
   "nbconvert_exporter": "python",
   "pygments_lexer": "ipython3",
   "version": "3.7.6"
  }
 },
 "nbformat": 4,
 "nbformat_minor": 4
}
